{
 "cells": [
  {
   "cell_type": "code",
   "execution_count": 3,
   "metadata": {},
   "outputs": [
    {
     "name": "stdout",
     "output_type": "stream",
     "text": [
      "Collecting catboost\n",
      "  Downloading catboost-0.24.3-cp38-none-manylinux1_x86_64.whl (66.2 MB)\n",
      "\u001b[K     |████████████████████████████████| 66.2 MB 1.1 MB/s eta 0:00:01\n",
      "\u001b[?25hCollecting graphviz\n",
      "  Downloading graphviz-0.15-py2.py3-none-any.whl (18 kB)\n",
      "Requirement already satisfied: plotly in /opt/conda/lib/python3.8/site-packages (from catboost) (4.14.1)\n",
      "Requirement already satisfied: scipy in /opt/conda/lib/python3.8/site-packages (from catboost) (1.5.2)\n",
      "Requirement already satisfied: six in /opt/conda/lib/python3.8/site-packages (from catboost) (1.15.0)\n",
      "Requirement already satisfied: numpy>=1.16.0 in /opt/conda/lib/python3.8/site-packages (from catboost) (1.19.2)\n",
      "Requirement already satisfied: pandas>=0.24.0 in /opt/conda/lib/python3.8/site-packages (from catboost) (1.1.3)\n",
      "Requirement already satisfied: matplotlib in /opt/conda/lib/python3.8/site-packages (from catboost) (3.3.2)\n",
      "Requirement already satisfied: retrying>=1.3.3 in /opt/conda/lib/python3.8/site-packages (from plotly->catboost) (1.3.3)\n",
      "Requirement already satisfied: python-dateutil>=2.7.3 in /opt/conda/lib/python3.8/site-packages (from pandas>=0.24.0->catboost) (2.8.1)\n",
      "Requirement already satisfied: pytz>=2017.2 in /opt/conda/lib/python3.8/site-packages (from pandas>=0.24.0->catboost) (2020.1)\n",
      "Requirement already satisfied: pillow>=6.2.0 in /opt/conda/lib/python3.8/site-packages (from matplotlib->catboost) (8.0.1)\n",
      "Requirement already satisfied: certifi>=2020.06.20 in /opt/conda/lib/python3.8/site-packages (from matplotlib->catboost) (2020.6.20)\n",
      "Requirement already satisfied: pyparsing!=2.0.4,!=2.1.2,!=2.1.6,>=2.0.3 in /opt/conda/lib/python3.8/site-packages (from matplotlib->catboost) (2.4.7)\n",
      "Requirement already satisfied: cycler>=0.10 in /opt/conda/lib/python3.8/site-packages (from matplotlib->catboost) (0.10.0)\n",
      "Requirement already satisfied: kiwisolver>=1.0.1 in /opt/conda/lib/python3.8/site-packages (from matplotlib->catboost) (1.3.0)\n",
      "Installing collected packages: graphviz, catboost\n",
      "Successfully installed catboost-0.24.3 graphviz-0.15\n",
      "Note: you may need to restart the kernel to use updated packages.\n"
     ]
    }
   ],
   "source": [
    "pip install catboost"
   ]
  },
  {
   "cell_type": "markdown",
   "metadata": {},
   "source": [
    "### Imports"
   ]
  },
  {
   "cell_type": "code",
   "execution_count": 1,
   "metadata": {},
   "outputs": [],
   "source": [
    "import pandas as pd\n",
    "import dask.dataframe as dd\n",
    "from os import listdir\n",
    "from os.path import isfile, join\n",
    "import numpy as np\n",
    "from catboost import CatBoostClassifier, Pool, CatBoost\n",
    "import sklearn as sk"
   ]
  },
  {
   "cell_type": "markdown",
   "metadata": {
    "heading_collapsed": true
   },
   "source": [
    "### Clickstream Reading"
   ]
  },
  {
   "cell_type": "code",
   "execution_count": 2,
   "metadata": {
    "hidden": true
   },
   "outputs": [],
   "source": [
    "class DataReader:\n",
    "    def __init__(self, chunkfolder_path, read_func_name, concat_func_name=None):        \n",
    "        self.chunkfolder_path=chunkfolder_path\n",
    "        self.read = read_func_name\n",
    "        self.concat= concat_func_name\n",
    "        return\n",
    "\n",
    "    def read_chunks(self):\n",
    "        self.chunk_path = tuple(chunkfolder_path + '/' + f for f in listdir(self.chunkfolder_path) if isfile(join(self.chunkfolder_path, f)))\n",
    "        self.chunks_iterator = map(self.read,self.chunk_path)\n",
    "        return\n",
    "    \n",
    "    def put_chunks_to_memory(self, first_chunk_only=False):\n",
    "        if first_chunk_only:\n",
    "            self.chunks = [next(self.chunks_iterator)]\n",
    "        else:\n",
    "            self.chunks = list(self.chunks_iterator)\n",
    "        return\n",
    "    \n",
    "    def concat_chunks(self):\n",
    "        if self.concat:\n",
    "            self.concatenated_chunks = self.concat(self.chunks)\n",
    "        return\n"
   ]
  },
  {
   "cell_type": "code",
   "execution_count": 3,
   "metadata": {
    "hidden": true
   },
   "outputs": [
    {
     "name": "stdout",
     "output_type": "stream",
     "text": [
      "('clickstream/part-00000.parquet', 'clickstream/part-00009.parquet', 'clickstream/part-00003.parquet', 'clickstream/part-00001.parquet', 'clickstream/part-00004.parquet', 'clickstream/part-00007.parquet', 'clickstream/part-00005.parquet', 'clickstream/part-00008.parquet', 'clickstream/part-00006.parquet', 'clickstream/part-00002.parquet')\n",
      "1\n",
      "9\n"
     ]
    }
   ],
   "source": [
    "chunkfolder_path = 'clickstream'\n",
    "\n",
    "ChunkReader = DataReader(chunkfolder_path, pd.read_parquet, pd.concat) # создаем экземпляр для чтения файлов из директории clickstream\n",
    "ChunkReader.read_chunks() # сохраняем пути до файлов\n",
    "print(ChunkReader.chunk_path) # проверяем пути до файлов\n",
    "ChunkReader.put_chunks_to_memory(first_chunk_only=True) # читаем только первый chunk\n",
    "print(len(ChunkReader.chunks)) # один чанк\n",
    "ChunkReader.put_chunks_to_memory(first_chunk_only=False) # складываем чанки в лист\n",
    "print(len(ChunkReader.chunks)) # чанки по одному лежат тут.\n",
    "ChunkReader.concat_chunks() # объединяем в один большой\n"
   ]
  },
  {
   "cell_type": "code",
   "execution_count": 4,
   "metadata": {
    "hidden": true
   },
   "outputs": [],
   "source": [
    "train_target_df = pd.read_csv('alfabattle2_abattle_train_target.csv',\n",
    "                              parse_dates=['timestamp'], infer_datetime_format=True)"
   ]
  },
  {
   "cell_type": "code",
   "execution_count": 5,
   "metadata": {
    "hidden": true
   },
   "outputs": [
    {
     "ename": "NameError",
     "evalue": "name 'ChunkReader' is not defined",
     "output_type": "error",
     "traceback": [
      "\u001b[0;31m---------------------------------------------------------------------------\u001b[0m",
      "\u001b[0;31mNameError\u001b[0m                                 Traceback (most recent call last)",
      "\u001b[0;32m<ipython-input-5-e30d5500e31e>\u001b[0m in \u001b[0;36m<module>\u001b[0;34m\u001b[0m\n\u001b[0;32m----> 1\u001b[0;31m \u001b[0mmerged_df\u001b[0m \u001b[0;34m=\u001b[0m \u001b[0mChunkReader\u001b[0m\u001b[0;34m.\u001b[0m\u001b[0mchunks\u001b[0m\u001b[0;34m[\u001b[0m\u001b[0;36m0\u001b[0m\u001b[0;34m]\u001b[0m\u001b[0;34m.\u001b[0m\u001b[0mmerge\u001b[0m\u001b[0;34m(\u001b[0m\u001b[0mtrain_target_df\u001b[0m\u001b[0;34m,\u001b[0m \u001b[0mhow\u001b[0m\u001b[0;34m=\u001b[0m\u001b[0;34m'inner'\u001b[0m\u001b[0;34m,\u001b[0m \u001b[0mon\u001b[0m\u001b[0;34m=\u001b[0m\u001b[0;34m'session_id'\u001b[0m\u001b[0;34m)\u001b[0m \u001b[0;31m# джойним кликстрим на сессии\u001b[0m\u001b[0;34m\u001b[0m\u001b[0;34m\u001b[0m\u001b[0m\n\u001b[0m",
      "\u001b[0;31mNameError\u001b[0m: name 'ChunkReader' is not defined"
     ]
    }
   ],
   "source": [
    "merged_df = ChunkReader.chunks[0].merge(train_target_df, how='inner', on='session_id') # джойним кликстрим на сессии\n"
   ]
  },
  {
   "cell_type": "markdown",
   "metadata": {
    "heading_collapsed": true
   },
   "source": [
    "### First event in session calculating"
   ]
  },
  {
   "cell_type": "code",
   "execution_count": null,
   "metadata": {
    "code_folding": [],
    "hidden": true
   },
   "outputs": [],
   "source": [
    "merged_df[\"event_num\"] = merged_df.sort_values(['timestamp_x'], ascending=True)\\\n",
    "             .groupby(['session_id'])\\\n",
    "             .cumcount() + 1"
   ]
  },
  {
   "cell_type": "code",
   "execution_count": null,
   "metadata": {
    "hidden": true
   },
   "outputs": [],
   "source": [
    "random_client = merged_df[merged_df.client=='8f1fc0c1216403afc07b5d602680b313']"
   ]
  },
  {
   "cell_type": "markdown",
   "metadata": {},
   "source": [
    "### Feature generating"
   ]
  },
  {
   "cell_type": "code",
   "execution_count": 7,
   "metadata": {
    "scrolled": true
   },
   "outputs": [
    {
     "name": "stderr",
     "output_type": "stream",
     "text": [
      "<ipython-input-7-8caef55effe3>:17: FutureWarning: Series.dt.weekofyear and Series.dt.week have been deprecated.  Please use Series.dt.isocalendar().week instead.\n",
      "  df[n] = np.int_(getattr(fld.dt, n.lower()))\n"
     ]
    }
   ],
   "source": [
    "train_target_df = pd.read_csv('alfabattle2_abattle_train_target.csv',\n",
    "                              parse_dates=['timestamp'], infer_datetime_format=True)\n",
    "\n",
    "def add_dateparts(df, fldname, drop_date_columns=True):\n",
    "    '''\n",
    "    Adds features extracted from date. Full list below:\n",
    "    'Year', 'Month', 'Week', 'Day', 'Dayofweek', 'Dayofyear','Is_month_end',\n",
    "    'Is_month_start', 'Is_quarter_end', 'Is_quarter_start', 'Is_year_end', 'Is_year_start'\n",
    "    Returns: 0 if everything is fine\n",
    "    '''\n",
    "    fld = df[fldname]\n",
    "    if not np.issubdtype(fld.dtype, np.datetime64):\n",
    "        df[fldname] = fld = pd.to_datetime(fld, infer_datetime_format=True)\n",
    "    for n in ('Year', 'Month', 'Week', 'Day', 'Dayofweek', 'Dayofyear',\n",
    "              'Is_month_end', 'Is_month_start', 'Is_quarter_end', 'Is_quarter_start',\n",
    "              'Is_year_end', 'Is_year_start', 'Hour', 'Minute', 'Second'):\n",
    "        df[n] = np.int_(getattr(fld.dt, n.lower()))\n",
    "    if drop_date_columns:\n",
    "        df.drop(fldname, axis=1, inplace=True)\n",
    "    return \n",
    "\n",
    "add_dateparts(train_target_df, 'timestamp') # добавллям фичи из даты, удаляем timestamp\n",
    "train_target_df\n",
    "\n",
    "test_dataset = pd.read_csv('alfabattle2_prediction_session_timestamp.csv',\n",
    "                              parse_dates=['timestamp'], infer_datetime_format=True)\n",
    "add_dateparts(test_dataset, 'timestamp')"
   ]
  },
  {
   "cell_type": "markdown",
   "metadata": {},
   "source": [
    "### Train and val split"
   ]
  },
  {
   "cell_type": "code",
   "execution_count": 8,
   "metadata": {},
   "outputs": [],
   "source": [
    "# Проблема в том, что по-хорошему нельзя случайным образом разбивать выборку на test и train\n",
    "# Сессии из будущего плохо использовать для предсказания прошлого\n",
    "# ~10% юзеров исключить из train, чтобы посмотреть, как модель справляется с новым юзерами\n",
    "# остальные данные для валидации надо подобрать так, чтобы в валидации были только данные из будущего относительно train-а\n",
    "\n",
    "train_target_df[\"client_hash\"] = train_target_df.client_pin.apply(hash)%10\n",
    "val_dataset = train_target_df[train_target_df.Month==9] # максимальный месяц идет в валидацию\n",
    "train_dataset = train_target_df[(train_target_df.Month!=9)|(train_target_df.client_hash==10)]"
   ]
  },
  {
   "cell_type": "markdown",
   "metadata": {},
   "source": [
    "### Detelete extra columns"
   ]
  },
  {
   "cell_type": "code",
   "execution_count": 9,
   "metadata": {},
   "outputs": [
    {
     "name": "stderr",
     "output_type": "stream",
     "text": [
      "/opt/conda/lib/python3.8/site-packages/pandas/core/frame.py:4163: SettingWithCopyWarning: \n",
      "A value is trying to be set on a copy of a slice from a DataFrame\n",
      "\n",
      "See the caveats in the documentation: https://pandas.pydata.org/pandas-docs/stable/user_guide/indexing.html#returning-a-view-versus-a-copy\n",
      "  return super().drop(\n"
     ]
    }
   ],
   "source": [
    "train_dataset\n",
    "columns_to_drop = ['Year', 'Month', 'session_id', 'client_hash']\n",
    "train_dataset.drop(columns_to_drop, axis=1, inplace=True)\n",
    "val_dataset.drop(columns_to_drop, axis=1, inplace=True)\n",
    "test_dataset.drop(['Year', 'Month'], axis=1, inplace=True)"
   ]
  },
  {
   "cell_type": "markdown",
   "metadata": {},
   "source": [
    "### Making a model"
   ]
  },
  {
   "cell_type": "code",
   "execution_count": 10,
   "metadata": {},
   "outputs": [
    {
     "data": {
      "text/html": [
       "<div>\n",
       "<style scoped>\n",
       "    .dataframe tbody tr th:only-of-type {\n",
       "        vertical-align: middle;\n",
       "    }\n",
       "\n",
       "    .dataframe tbody tr th {\n",
       "        vertical-align: top;\n",
       "    }\n",
       "\n",
       "    .dataframe thead th {\n",
       "        text-align: right;\n",
       "    }\n",
       "</style>\n",
       "<table border=\"1\" class=\"dataframe\">\n",
       "  <thead>\n",
       "    <tr style=\"text-align: right;\">\n",
       "      <th></th>\n",
       "      <th>client_pin</th>\n",
       "      <th>multi_class_target</th>\n",
       "      <th>Week</th>\n",
       "      <th>Day</th>\n",
       "      <th>Dayofweek</th>\n",
       "      <th>Dayofyear</th>\n",
       "      <th>Is_month_end</th>\n",
       "      <th>Is_month_start</th>\n",
       "      <th>Is_quarter_end</th>\n",
       "      <th>Is_quarter_start</th>\n",
       "      <th>Is_year_end</th>\n",
       "      <th>Is_year_start</th>\n",
       "      <th>Hour</th>\n",
       "      <th>Minute</th>\n",
       "      <th>Second</th>\n",
       "    </tr>\n",
       "  </thead>\n",
       "  <tbody>\n",
       "    <tr>\n",
       "      <th>0</th>\n",
       "      <td>7cf9221322a0e2fdefb1b998b8f2ab29</td>\n",
       "      <td>main_screen</td>\n",
       "      <td>25</td>\n",
       "      <td>15</td>\n",
       "      <td>0</td>\n",
       "      <td>167</td>\n",
       "      <td>0</td>\n",
       "      <td>0</td>\n",
       "      <td>0</td>\n",
       "      <td>0</td>\n",
       "      <td>0</td>\n",
       "      <td>0</td>\n",
       "      <td>14</td>\n",
       "      <td>1</td>\n",
       "      <td>12</td>\n",
       "    </tr>\n",
       "    <tr>\n",
       "      <th>1</th>\n",
       "      <td>5f16c0ab27a806fd08db3122921adf3a</td>\n",
       "      <td>invest</td>\n",
       "      <td>12</td>\n",
       "      <td>21</td>\n",
       "      <td>5</td>\n",
       "      <td>81</td>\n",
       "      <td>0</td>\n",
       "      <td>0</td>\n",
       "      <td>0</td>\n",
       "      <td>0</td>\n",
       "      <td>0</td>\n",
       "      <td>0</td>\n",
       "      <td>12</td>\n",
       "      <td>59</td>\n",
       "      <td>34</td>\n",
       "    </tr>\n",
       "    <tr>\n",
       "      <th>2</th>\n",
       "      <td>ec868fc2b388293cf10e18ee9518d72f</td>\n",
       "      <td>statement</td>\n",
       "      <td>4</td>\n",
       "      <td>24</td>\n",
       "      <td>4</td>\n",
       "      <td>24</td>\n",
       "      <td>0</td>\n",
       "      <td>0</td>\n",
       "      <td>0</td>\n",
       "      <td>0</td>\n",
       "      <td>0</td>\n",
       "      <td>0</td>\n",
       "      <td>18</td>\n",
       "      <td>18</td>\n",
       "      <td>55</td>\n",
       "    </tr>\n",
       "    <tr>\n",
       "      <th>3</th>\n",
       "      <td>91f55a33d7502c1a1fa5da7ff2f7b648</td>\n",
       "      <td>main_screen</td>\n",
       "      <td>11</td>\n",
       "      <td>15</td>\n",
       "      <td>6</td>\n",
       "      <td>75</td>\n",
       "      <td>0</td>\n",
       "      <td>0</td>\n",
       "      <td>0</td>\n",
       "      <td>0</td>\n",
       "      <td>0</td>\n",
       "      <td>0</td>\n",
       "      <td>19</td>\n",
       "      <td>50</td>\n",
       "      <td>23</td>\n",
       "    </tr>\n",
       "    <tr>\n",
       "      <th>4</th>\n",
       "      <td>3ef1020bda95ce7836d2680fa553ecb7</td>\n",
       "      <td>main_screen</td>\n",
       "      <td>8</td>\n",
       "      <td>20</td>\n",
       "      <td>3</td>\n",
       "      <td>51</td>\n",
       "      <td>0</td>\n",
       "      <td>0</td>\n",
       "      <td>0</td>\n",
       "      <td>0</td>\n",
       "      <td>0</td>\n",
       "      <td>0</td>\n",
       "      <td>7</td>\n",
       "      <td>56</td>\n",
       "      <td>58</td>\n",
       "    </tr>\n",
       "    <tr>\n",
       "      <th>...</th>\n",
       "      <td>...</td>\n",
       "      <td>...</td>\n",
       "      <td>...</td>\n",
       "      <td>...</td>\n",
       "      <td>...</td>\n",
       "      <td>...</td>\n",
       "      <td>...</td>\n",
       "      <td>...</td>\n",
       "      <td>...</td>\n",
       "      <td>...</td>\n",
       "      <td>...</td>\n",
       "      <td>...</td>\n",
       "      <td>...</td>\n",
       "      <td>...</td>\n",
       "      <td>...</td>\n",
       "    </tr>\n",
       "    <tr>\n",
       "      <th>5065345</th>\n",
       "      <td>8f1fc0c1216403afc07b5d602680b313</td>\n",
       "      <td>main_screen</td>\n",
       "      <td>25</td>\n",
       "      <td>16</td>\n",
       "      <td>1</td>\n",
       "      <td>168</td>\n",
       "      <td>0</td>\n",
       "      <td>0</td>\n",
       "      <td>0</td>\n",
       "      <td>0</td>\n",
       "      <td>0</td>\n",
       "      <td>0</td>\n",
       "      <td>15</td>\n",
       "      <td>21</td>\n",
       "      <td>0</td>\n",
       "    </tr>\n",
       "    <tr>\n",
       "      <th>5065346</th>\n",
       "      <td>2675ab80450c36c8f2600d8dcd60b43c</td>\n",
       "      <td>main_screen</td>\n",
       "      <td>17</td>\n",
       "      <td>22</td>\n",
       "      <td>2</td>\n",
       "      <td>113</td>\n",
       "      <td>0</td>\n",
       "      <td>0</td>\n",
       "      <td>0</td>\n",
       "      <td>0</td>\n",
       "      <td>0</td>\n",
       "      <td>0</td>\n",
       "      <td>20</td>\n",
       "      <td>31</td>\n",
       "      <td>9</td>\n",
       "    </tr>\n",
       "    <tr>\n",
       "      <th>5065347</th>\n",
       "      <td>2c5e889f5360eabefc21181240d0d38e</td>\n",
       "      <td>main_screen</td>\n",
       "      <td>23</td>\n",
       "      <td>2</td>\n",
       "      <td>1</td>\n",
       "      <td>154</td>\n",
       "      <td>0</td>\n",
       "      <td>0</td>\n",
       "      <td>0</td>\n",
       "      <td>0</td>\n",
       "      <td>0</td>\n",
       "      <td>0</td>\n",
       "      <td>11</td>\n",
       "      <td>43</td>\n",
       "      <td>6</td>\n",
       "    </tr>\n",
       "    <tr>\n",
       "      <th>5065348</th>\n",
       "      <td>eb90469b91e22f5ba12986acd873def9</td>\n",
       "      <td>main_screen</td>\n",
       "      <td>14</td>\n",
       "      <td>30</td>\n",
       "      <td>0</td>\n",
       "      <td>90</td>\n",
       "      <td>0</td>\n",
       "      <td>0</td>\n",
       "      <td>0</td>\n",
       "      <td>0</td>\n",
       "      <td>0</td>\n",
       "      <td>0</td>\n",
       "      <td>0</td>\n",
       "      <td>39</td>\n",
       "      <td>3</td>\n",
       "    </tr>\n",
       "    <tr>\n",
       "      <th>5065349</th>\n",
       "      <td>73b4ee58ec16778d9e966bdc0595fcb7</td>\n",
       "      <td>chat</td>\n",
       "      <td>25</td>\n",
       "      <td>20</td>\n",
       "      <td>5</td>\n",
       "      <td>172</td>\n",
       "      <td>0</td>\n",
       "      <td>0</td>\n",
       "      <td>0</td>\n",
       "      <td>0</td>\n",
       "      <td>0</td>\n",
       "      <td>0</td>\n",
       "      <td>17</td>\n",
       "      <td>35</td>\n",
       "      <td>50</td>\n",
       "    </tr>\n",
       "  </tbody>\n",
       "</table>\n",
       "<p>4874702 rows × 15 columns</p>\n",
       "</div>"
      ],
      "text/plain": [
       "                               client_pin multi_class_target  Week  Day  \\\n",
       "0        7cf9221322a0e2fdefb1b998b8f2ab29        main_screen    25   15   \n",
       "1        5f16c0ab27a806fd08db3122921adf3a             invest    12   21   \n",
       "2        ec868fc2b388293cf10e18ee9518d72f          statement     4   24   \n",
       "3        91f55a33d7502c1a1fa5da7ff2f7b648        main_screen    11   15   \n",
       "4        3ef1020bda95ce7836d2680fa553ecb7        main_screen     8   20   \n",
       "...                                   ...                ...   ...  ...   \n",
       "5065345  8f1fc0c1216403afc07b5d602680b313        main_screen    25   16   \n",
       "5065346  2675ab80450c36c8f2600d8dcd60b43c        main_screen    17   22   \n",
       "5065347  2c5e889f5360eabefc21181240d0d38e        main_screen    23    2   \n",
       "5065348  eb90469b91e22f5ba12986acd873def9        main_screen    14   30   \n",
       "5065349  73b4ee58ec16778d9e966bdc0595fcb7               chat    25   20   \n",
       "\n",
       "         Dayofweek  Dayofyear  Is_month_end  Is_month_start  Is_quarter_end  \\\n",
       "0                0        167             0               0               0   \n",
       "1                5         81             0               0               0   \n",
       "2                4         24             0               0               0   \n",
       "3                6         75             0               0               0   \n",
       "4                3         51             0               0               0   \n",
       "...            ...        ...           ...             ...             ...   \n",
       "5065345          1        168             0               0               0   \n",
       "5065346          2        113             0               0               0   \n",
       "5065347          1        154             0               0               0   \n",
       "5065348          0         90             0               0               0   \n",
       "5065349          5        172             0               0               0   \n",
       "\n",
       "         Is_quarter_start  Is_year_end  Is_year_start  Hour  Minute  Second  \n",
       "0                       0            0              0    14       1      12  \n",
       "1                       0            0              0    12      59      34  \n",
       "2                       0            0              0    18      18      55  \n",
       "3                       0            0              0    19      50      23  \n",
       "4                       0            0              0     7      56      58  \n",
       "...                   ...          ...            ...   ...     ...     ...  \n",
       "5065345                 0            0              0    15      21       0  \n",
       "5065346                 0            0              0    20      31       9  \n",
       "5065347                 0            0              0    11      43       6  \n",
       "5065348                 0            0              0     0      39       3  \n",
       "5065349                 0            0              0    17      35      50  \n",
       "\n",
       "[4874702 rows x 15 columns]"
      ]
     },
     "execution_count": 10,
     "metadata": {},
     "output_type": "execute_result"
    }
   ],
   "source": [
    "train_dataset"
   ]
  },
  {
   "cell_type": "code",
   "execution_count": 11,
   "metadata": {},
   "outputs": [],
   "source": [
    "train_data = train_dataset.drop([\"multi_class_target\"], axis=1).values\n",
    "train_labels = train_dataset.multi_class_target.values\n",
    "val_data = val_dataset.drop([\"multi_class_target\"], axis=1).values\n",
    "val_labels = val_dataset.multi_class_target.values\n",
    "\n",
    "train_pool = Pool(train_data, \n",
    "                  train_labels, cat_features=[i for i in range(train_data.shape[1])])\n",
    "val_pool = Pool(val_data, \n",
    "                  val_labels, cat_features=[i for i in range(val_data.shape[1])])\n",
    "\n",
    "test_pool= Pool(test_dataset.values, cat_features=[i for i in range(test_dataset.values.shape[1])])"
   ]
  },
  {
   "cell_type": "code",
   "execution_count": 12,
   "metadata": {},
   "outputs": [
    {
     "name": "stdout",
     "output_type": "stream",
     "text": [
      "0:\tlearn: 0.4273354\ttest: 0.3997972\tbest: 0.3997972 (0)\ttotal: 2m 2s\tremaining: 8m 8s\n",
      "1:\tlearn: 0.4367500\ttest: 0.4083757\tbest: 0.4083757 (1)\ttotal: 3m 41s\tremaining: 5m 31s\n",
      "2:\tlearn: 0.4358085\ttest: 0.4073154\tbest: 0.4083757 (1)\ttotal: 5m 26s\tremaining: 3m 37s\n",
      "3:\tlearn: 0.4397085\ttest: 0.4110579\tbest: 0.4110579 (3)\ttotal: 7m 12s\tremaining: 1m 48s\n",
      "4:\tlearn: 0.4420618\ttest: 0.4112746\tbest: 0.4112746 (4)\ttotal: 9m 4s\tremaining: 0us\n",
      "\n",
      "bestTest = 0.411274612\n",
      "bestIteration = 4\n",
      "\n"
     ]
    },
    {
     "data": {
      "text/plain": [
       "{'learn': {'TotalF1': 0.44206179059167744, 'MultiClass': 2.1097765247394125},\n",
       " 'validation': {'TotalF1': 0.41127461195520887,\n",
       "  'MultiClass': 2.1307004265826746}}"
      ]
     },
     "execution_count": 12,
     "metadata": {},
     "output_type": "execute_result"
    }
   ],
   "source": [
    "\n",
    "param = {'iterations':5, 'loss_function':'MultiClass','eval_metric':'TotalF1',\n",
    "         'l2_leaf_reg':3.0, 'auto_class_weights':'Balanced', 'boosting_type':'Plain',\n",
    "        'depth':10}\n",
    "model = CatBoost(param)\n",
    "#train the model\n",
    "model.fit(train_pool, eval_set=val_pool) \n",
    "# make the prediction using the resulting model\n",
    "preds_class = model.predict(val_pool, prediction_type='Class')\n",
    "preds_proba = model.predict(val_pool, prediction_type='Probability')\n",
    "preds_raw_vals = model.predict(val_pool, prediction_type='RawFormulaVal')\n",
    "\n",
    "model.best_score_"
   ]
  },
  {
   "cell_type": "markdown",
   "metadata": {},
   "source": [
    "### Checking test"
   ]
  },
  {
   "cell_type": "code",
   "execution_count": 13,
   "metadata": {},
   "outputs": [
    {
     "data": {
      "text/plain": [
       "array([100.,   0.,   0.,   0.,   0.,   0.,   0.,   0.,   0.,   0.,   0.,\n",
       "         0.,   0.,   0.])"
      ]
     },
     "execution_count": 13,
     "metadata": {},
     "output_type": "execute_result"
    }
   ],
   "source": [
    "model.feature_importances_"
   ]
  },
  {
   "cell_type": "markdown",
   "metadata": {},
   "source": [
    "# Make prediction"
   ]
  },
  {
   "cell_type": "code",
   "execution_count": 17,
   "metadata": {},
   "outputs": [],
   "source": [
    "def preprocess(df):\n",
    "    X = df.copy()\n",
    "    add_dateparts(X, 'timestamp')\n",
    "    columns_to_drop = ['Year', 'Month']\n",
    "    X.drop(columns_to_drop, axis=1, inplace=True)\n",
    "    return X\n",
    "#alfabattle2_prediction_session_timestamp_test = pd.read_csv(\"alfabattle2_prediction_session_timestamp.csv\")\n",
    "#preprocess(alfabattle2_prediction_session_timestamp_test)"
   ]
  },
  {
   "cell_type": "code",
   "execution_count": 60,
   "metadata": {},
   "outputs": [
    {
     "name": "stderr",
     "output_type": "stream",
     "text": [
      "<ipython-input-7-8caef55effe3>:17: FutureWarning: Series.dt.weekofyear and Series.dt.week have been deprecated.  Please use Series.dt.isocalendar().week instead.\n",
      "  df[n] = np.int_(getattr(fld.dt, n.lower()))\n"
     ]
    },
    {
     "name": "stdout",
     "output_type": "stream",
     "text": [
      "submits/2020-12-15_21:17:48.464900_None/prediction.csv created\n",
      "submits/2020-12-15_21:17:48.464900_None/meta_info.json created\n"
     ]
    },
    {
     "data": {
      "text/html": [
       "<div>\n",
       "<style scoped>\n",
       "    .dataframe tbody tr th:only-of-type {\n",
       "        vertical-align: middle;\n",
       "    }\n",
       "\n",
       "    .dataframe tbody tr th {\n",
       "        vertical-align: top;\n",
       "    }\n",
       "\n",
       "    .dataframe thead th {\n",
       "        text-align: right;\n",
       "    }\n",
       "</style>\n",
       "<table border=\"1\" class=\"dataframe\">\n",
       "  <thead>\n",
       "    <tr style=\"text-align: right;\">\n",
       "      <th></th>\n",
       "      <th>client_pin</th>\n",
       "      <th>prediction</th>\n",
       "    </tr>\n",
       "  </thead>\n",
       "  <tbody>\n",
       "    <tr>\n",
       "      <th>0</th>\n",
       "      <td>f0c674b2bb4dc64be607029271d706ec</td>\n",
       "      <td>card_recharge</td>\n",
       "    </tr>\n",
       "    <tr>\n",
       "      <th>1</th>\n",
       "      <td>90725b54ce77576883813d87749df6bd</td>\n",
       "      <td>statement</td>\n",
       "    </tr>\n",
       "    <tr>\n",
       "      <th>2</th>\n",
       "      <td>eb0f82d74c7b7bd5eafbd5b5f8cb3e2a</td>\n",
       "      <td>credit_info</td>\n",
       "    </tr>\n",
       "    <tr>\n",
       "      <th>3</th>\n",
       "      <td>831bf4c0ecccc55e536b8cfb9153d672</td>\n",
       "      <td>card2card_transfer</td>\n",
       "    </tr>\n",
       "    <tr>\n",
       "      <th>4</th>\n",
       "      <td>3f1a5a1c492ce877af833113e59c5797</td>\n",
       "      <td>mobile_recharge</td>\n",
       "    </tr>\n",
       "  </tbody>\n",
       "</table>\n",
       "</div>"
      ],
      "text/plain": [
       "                         client_pin          prediction\n",
       "0  f0c674b2bb4dc64be607029271d706ec       card_recharge\n",
       "1  90725b54ce77576883813d87749df6bd           statement\n",
       "2  eb0f82d74c7b7bd5eafbd5b5f8cb3e2a         credit_info\n",
       "3  831bf4c0ecccc55e536b8cfb9153d672  card2card_transfer\n",
       "4  3f1a5a1c492ce877af833113e59c5797     mobile_recharge"
      ]
     },
     "execution_count": 60,
     "metadata": {},
     "output_type": "execute_result"
    }
   ],
   "source": [
    "%reload_ext autoreload\n",
    "%autoreload 2\n",
    "import utils\n",
    "\n",
    "utils.make_submit(model, preprocess, {\"model\": \"Catboost\"})\n",
    "prediction = pd.read_csv(\"prediction.csv\")\n",
    "prediction.head()"
   ]
  }
 ],
 "metadata": {
  "kernelspec": {
   "display_name": "Python 3",
   "language": "python",
   "name": "python3"
  },
  "language_info": {
   "codemirror_mode": {
    "name": "ipython",
    "version": 3
   },
   "file_extension": ".py",
   "mimetype": "text/x-python",
   "name": "python",
   "nbconvert_exporter": "python",
   "pygments_lexer": "ipython3",
   "version": "3.8.5"
  }
 },
 "nbformat": 4,
 "nbformat_minor": 4
}
