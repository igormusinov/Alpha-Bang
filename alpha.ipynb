{
 "cells": [
  {
   "cell_type": "markdown",
   "metadata": {},
   "source": [
    "### Imports"
   ]
  },
  {
   "cell_type": "code",
   "execution_count": 1,
   "metadata": {},
   "outputs": [],
   "source": [
    "import pandas as pd\n",
    "import dask.dataframe as dd\n",
    "from os import listdir\n",
    "from os.path import isfile, join\n",
    "import numpy as np\n",
    "from catboost import CatBoostClassifier, Pool, CatBoost\n",
    "import sklearn as sk"
   ]
  },
  {
   "cell_type": "markdown",
   "metadata": {
    "heading_collapsed": true
   },
   "source": [
    "### Clickstream Reading"
   ]
  },
  {
   "cell_type": "code",
   "execution_count": 2,
   "metadata": {
    "hidden": true
   },
   "outputs": [],
   "source": [
    "class DataReader:\n",
    "    def __init__(self, chunkfolder_path, read_func_name, concat_func_name=None):        \n",
    "        self.chunkfolder_path=chunkfolder_path\n",
    "        self.read = read_func_name\n",
    "        self.concat= concat_func_name\n",
    "        return\n",
    "\n",
    "    def read_chunks(self):\n",
    "        self.chunk_path = tuple(chunkfolder_path + '/' + f for f in listdir(self.chunkfolder_path) if isfile(join(self.chunkfolder_path, f)))\n",
    "        self.chunks_iterator = map(self.read,self.chunk_path)\n",
    "        return\n",
    "    \n",
    "    def put_chunks_to_memory(self, first_chunk_only=False):\n",
    "        if first_chunk_only:\n",
    "            self.chunks = [next(self.chunks_iterator)]\n",
    "        else:\n",
    "            self.chunks = list(self.chunks_iterator)\n",
    "        return\n",
    "    \n",
    "    def concat_chunks(self):\n",
    "        if self.concat:\n",
    "            self.concatenated_chunks = self.concat(self.chunks)\n",
    "        return\n"
   ]
  },
  {
   "cell_type": "code",
   "execution_count": 3,
   "metadata": {
    "hidden": true
   },
   "outputs": [
    {
     "name": "stdout",
     "output_type": "stream",
     "text": [
      "('clickstream/part-00000.parquet', 'clickstream/part-00009.parquet', 'clickstream/part-00003.parquet', 'clickstream/part-00001.parquet', 'clickstream/part-00004.parquet', 'clickstream/part-00007.parquet', 'clickstream/part-00005.parquet', 'clickstream/part-00008.parquet', 'clickstream/part-00006.parquet', 'clickstream/part-00002.parquet')\n",
      "1\n",
      "9\n"
     ]
    }
   ],
   "source": [
    "chunkfolder_path = 'clickstream'\n",
    "\n",
    "ChunkReader = DataReader(chunkfolder_path, pd.read_parquet, pd.concat) # создаем экземпляр для чтения файлов из директории clickstream\n",
    "ChunkReader.read_chunks() # сохраняем пути до файлов\n",
    "print(ChunkReader.chunk_path) # проверяем пути до файлов\n",
    "ChunkReader.put_chunks_to_memory(first_chunk_only=True) # читаем только первый chunk\n",
    "print(len(ChunkReader.chunks)) # один чанк\n",
    "ChunkReader.put_chunks_to_memory(first_chunk_only=False) # складываем чанки в лист\n",
    "print(len(ChunkReader.chunks)) # чанки по одному лежат тут.\n",
    "ChunkReader.concat_chunks() # объединяем в один большой\n"
   ]
  },
  {
   "cell_type": "code",
   "execution_count": 4,
   "metadata": {
    "hidden": true
   },
   "outputs": [],
   "source": [
    "train_target_df = pd.read_csv('alfabattle2_abattle_train_target.csv',\n",
    "                              parse_dates=['timestamp'], infer_datetime_format=True)"
   ]
  },
  {
   "cell_type": "code",
   "execution_count": 5,
   "metadata": {
    "hidden": true
   },
   "outputs": [],
   "source": [
    "merged_df = ChunkReader.chunks[0].merge(train_target_df, how='inner', on='session_id') # джойним кликстрим на сессии\n"
   ]
  },
  {
   "cell_type": "markdown",
   "metadata": {
    "heading_collapsed": true
   },
   "source": [
    "### First event in session calculating"
   ]
  },
  {
   "cell_type": "code",
   "execution_count": 6,
   "metadata": {
    "code_folding": [],
    "hidden": true
   },
   "outputs": [],
   "source": [
    "merged_df[\"event_num\"] = merged_df.sort_values(['timestamp_x'], ascending=True)\\\n",
    "             .groupby(['session_id'])\\\n",
    "             .cumcount() + 1"
   ]
  },
  {
   "cell_type": "code",
   "execution_count": 7,
   "metadata": {
    "hidden": true
   },
   "outputs": [],
   "source": [
    "random_client = merged_df[merged_df.client=='8f1fc0c1216403afc07b5d602680b313']"
   ]
  },
  {
   "cell_type": "markdown",
   "metadata": {},
   "source": [
    "### Feature generating"
   ]
  },
  {
   "cell_type": "code",
   "execution_count": 2,
   "metadata": {
    "scrolled": true
   },
   "outputs": [],
   "source": [
    "train_target_df = pd.read_csv('alfabattle2_abattle_train_target.csv',\n",
    "                              parse_dates=['timestamp'], infer_datetime_format=True)\n",
    "\n",
    "def add_dateparts(df, fldname, drop_date_columns=True):\n",
    "    '''\n",
    "    Adds features extracted from date. Full list below:\n",
    "    'Year', 'Month', 'Week', 'Day', 'Dayofweek', 'Dayofyear','Is_month_end',\n",
    "    'Is_month_start', 'Is_quarter_end', 'Is_quarter_start', 'Is_year_end', 'Is_year_start'\n",
    "    Returns: 0 if everything is fine\n",
    "    '''\n",
    "    fld = df[fldname]\n",
    "    if not np.issubdtype(fld.dtype, np.datetime64):\n",
    "        df[fldname] = fld = pd.to_datetime(fld, infer_datetime_format=True)\n",
    "    for n in ('Year', 'Month', 'Week', 'Day', 'Dayofweek', 'Dayofyear',\n",
    "              'Is_month_end', 'Is_month_start', 'Is_quarter_end', 'Is_quarter_start',\n",
    "              'Is_year_end', 'Is_year_start', 'Hour', 'Minute', 'Second'):\n",
    "        df[n] = np.int_(getattr(fld.dt, n.lower()))\n",
    "    if drop_date_columns:\n",
    "        df.drop(fldname, axis=1, inplace=True)\n",
    "    return \n",
    "\n",
    "add_dateparts(train_target_df, 'timestamp') # добавллям фичи из даты, удаляем timestamp\n",
    "train_target_df\n",
    "\n",
    "test_dataset = pd.read_csv('alfabattle2_prediction_session_timestamp.csv',\n",
    "                              parse_dates=['timestamp'], infer_datetime_format=True)\n",
    "add_dateparts(test_dataset, 'timestamp')"
   ]
  },
  {
   "cell_type": "markdown",
   "metadata": {},
   "source": [
    "### Train and val split"
   ]
  },
  {
   "cell_type": "code",
   "execution_count": 3,
   "metadata": {},
   "outputs": [],
   "source": [
    "# Проблема в том, что по-хорошему нельзя случайным образом разбивать выборку на test и train\n",
    "# Сессии из будущего плохо использовать для предсказания прошлого\n",
    "# ~10% юзеров исключить из train, чтобы посмотреть, как модель справляется с новым юзерами\n",
    "# остальные данные для валидации надо подобрать так, чтобы в валидации были только данные из будущего относительно train-а\n",
    "\n",
    "train_target_df[\"client_hash\"] = train_target_df.client_pin.apply(hash)%10\n",
    "val_dataset = train_target_df[train_target_df.Month==9] # максимальный месяц идет в валидацию\n",
    "train_dataset = train_target_df[(train_target_df.Month!=9)|(train_target_df.client_hash==10)]"
   ]
  },
  {
   "cell_type": "markdown",
   "metadata": {},
   "source": [
    "### Detelete extra columns"
   ]
  },
  {
   "cell_type": "code",
   "execution_count": 4,
   "metadata": {},
   "outputs": [
    {
     "name": "stderr",
     "output_type": "stream",
     "text": [
      "/home/ivkrasovskiy/anaconda3/lib/python3.7/site-packages/pandas/core/frame.py:4117: SettingWithCopyWarning: \n",
      "A value is trying to be set on a copy of a slice from a DataFrame\n",
      "\n",
      "See the caveats in the documentation: http://pandas.pydata.org/pandas-docs/stable/user_guide/indexing.html#returning-a-view-versus-a-copy\n",
      "  errors=errors,\n"
     ]
    }
   ],
   "source": [
    "train_dataset\n",
    "columns_to_drop = ['Year', 'Month', 'session_id', 'client_hash']\n",
    "train_dataset.drop(columns_to_drop, axis=1, inplace=True)\n",
    "val_dataset.drop(columns_to_drop, axis=1, inplace=True)\n",
    "test_dataset.drop(['Year', 'Month'], axis=1, inplace=True)"
   ]
  },
  {
   "cell_type": "markdown",
   "metadata": {},
   "source": [
    "### Making a model"
   ]
  },
  {
   "cell_type": "code",
   "execution_count": 11,
   "metadata": {},
   "outputs": [
    {
     "data": {
      "text/html": [
       "<div>\n",
       "<style scoped>\n",
       "    .dataframe tbody tr th:only-of-type {\n",
       "        vertical-align: middle;\n",
       "    }\n",
       "\n",
       "    .dataframe tbody tr th {\n",
       "        vertical-align: top;\n",
       "    }\n",
       "\n",
       "    .dataframe thead th {\n",
       "        text-align: right;\n",
       "    }\n",
       "</style>\n",
       "<table border=\"1\" class=\"dataframe\">\n",
       "  <thead>\n",
       "    <tr style=\"text-align: right;\">\n",
       "      <th></th>\n",
       "      <th>client_pin</th>\n",
       "      <th>multi_class_target</th>\n",
       "      <th>Week</th>\n",
       "      <th>Day</th>\n",
       "      <th>Dayofweek</th>\n",
       "      <th>Dayofyear</th>\n",
       "      <th>Is_month_end</th>\n",
       "      <th>Is_month_start</th>\n",
       "      <th>Is_quarter_end</th>\n",
       "      <th>Is_quarter_start</th>\n",
       "      <th>Is_year_end</th>\n",
       "      <th>Is_year_start</th>\n",
       "      <th>Hour</th>\n",
       "      <th>Minute</th>\n",
       "      <th>Second</th>\n",
       "    </tr>\n",
       "  </thead>\n",
       "  <tbody>\n",
       "    <tr>\n",
       "      <th>0</th>\n",
       "      <td>7cf9221322a0e2fdefb1b998b8f2ab29</td>\n",
       "      <td>main_screen</td>\n",
       "      <td>25</td>\n",
       "      <td>15</td>\n",
       "      <td>0</td>\n",
       "      <td>167</td>\n",
       "      <td>0</td>\n",
       "      <td>0</td>\n",
       "      <td>0</td>\n",
       "      <td>0</td>\n",
       "      <td>0</td>\n",
       "      <td>0</td>\n",
       "      <td>14</td>\n",
       "      <td>1</td>\n",
       "      <td>12</td>\n",
       "    </tr>\n",
       "    <tr>\n",
       "      <th>1</th>\n",
       "      <td>5f16c0ab27a806fd08db3122921adf3a</td>\n",
       "      <td>invest</td>\n",
       "      <td>12</td>\n",
       "      <td>21</td>\n",
       "      <td>5</td>\n",
       "      <td>81</td>\n",
       "      <td>0</td>\n",
       "      <td>0</td>\n",
       "      <td>0</td>\n",
       "      <td>0</td>\n",
       "      <td>0</td>\n",
       "      <td>0</td>\n",
       "      <td>12</td>\n",
       "      <td>59</td>\n",
       "      <td>34</td>\n",
       "    </tr>\n",
       "    <tr>\n",
       "      <th>2</th>\n",
       "      <td>ec868fc2b388293cf10e18ee9518d72f</td>\n",
       "      <td>statement</td>\n",
       "      <td>4</td>\n",
       "      <td>24</td>\n",
       "      <td>4</td>\n",
       "      <td>24</td>\n",
       "      <td>0</td>\n",
       "      <td>0</td>\n",
       "      <td>0</td>\n",
       "      <td>0</td>\n",
       "      <td>0</td>\n",
       "      <td>0</td>\n",
       "      <td>18</td>\n",
       "      <td>18</td>\n",
       "      <td>55</td>\n",
       "    </tr>\n",
       "    <tr>\n",
       "      <th>3</th>\n",
       "      <td>91f55a33d7502c1a1fa5da7ff2f7b648</td>\n",
       "      <td>main_screen</td>\n",
       "      <td>11</td>\n",
       "      <td>15</td>\n",
       "      <td>6</td>\n",
       "      <td>75</td>\n",
       "      <td>0</td>\n",
       "      <td>0</td>\n",
       "      <td>0</td>\n",
       "      <td>0</td>\n",
       "      <td>0</td>\n",
       "      <td>0</td>\n",
       "      <td>19</td>\n",
       "      <td>50</td>\n",
       "      <td>23</td>\n",
       "    </tr>\n",
       "    <tr>\n",
       "      <th>4</th>\n",
       "      <td>3ef1020bda95ce7836d2680fa553ecb7</td>\n",
       "      <td>main_screen</td>\n",
       "      <td>8</td>\n",
       "      <td>20</td>\n",
       "      <td>3</td>\n",
       "      <td>51</td>\n",
       "      <td>0</td>\n",
       "      <td>0</td>\n",
       "      <td>0</td>\n",
       "      <td>0</td>\n",
       "      <td>0</td>\n",
       "      <td>0</td>\n",
       "      <td>7</td>\n",
       "      <td>56</td>\n",
       "      <td>58</td>\n",
       "    </tr>\n",
       "    <tr>\n",
       "      <th>...</th>\n",
       "      <td>...</td>\n",
       "      <td>...</td>\n",
       "      <td>...</td>\n",
       "      <td>...</td>\n",
       "      <td>...</td>\n",
       "      <td>...</td>\n",
       "      <td>...</td>\n",
       "      <td>...</td>\n",
       "      <td>...</td>\n",
       "      <td>...</td>\n",
       "      <td>...</td>\n",
       "      <td>...</td>\n",
       "      <td>...</td>\n",
       "      <td>...</td>\n",
       "      <td>...</td>\n",
       "    </tr>\n",
       "    <tr>\n",
       "      <th>5065345</th>\n",
       "      <td>8f1fc0c1216403afc07b5d602680b313</td>\n",
       "      <td>main_screen</td>\n",
       "      <td>25</td>\n",
       "      <td>16</td>\n",
       "      <td>1</td>\n",
       "      <td>168</td>\n",
       "      <td>0</td>\n",
       "      <td>0</td>\n",
       "      <td>0</td>\n",
       "      <td>0</td>\n",
       "      <td>0</td>\n",
       "      <td>0</td>\n",
       "      <td>15</td>\n",
       "      <td>21</td>\n",
       "      <td>0</td>\n",
       "    </tr>\n",
       "    <tr>\n",
       "      <th>5065346</th>\n",
       "      <td>2675ab80450c36c8f2600d8dcd60b43c</td>\n",
       "      <td>main_screen</td>\n",
       "      <td>17</td>\n",
       "      <td>22</td>\n",
       "      <td>2</td>\n",
       "      <td>113</td>\n",
       "      <td>0</td>\n",
       "      <td>0</td>\n",
       "      <td>0</td>\n",
       "      <td>0</td>\n",
       "      <td>0</td>\n",
       "      <td>0</td>\n",
       "      <td>20</td>\n",
       "      <td>31</td>\n",
       "      <td>9</td>\n",
       "    </tr>\n",
       "    <tr>\n",
       "      <th>5065347</th>\n",
       "      <td>2c5e889f5360eabefc21181240d0d38e</td>\n",
       "      <td>main_screen</td>\n",
       "      <td>23</td>\n",
       "      <td>2</td>\n",
       "      <td>1</td>\n",
       "      <td>154</td>\n",
       "      <td>0</td>\n",
       "      <td>0</td>\n",
       "      <td>0</td>\n",
       "      <td>0</td>\n",
       "      <td>0</td>\n",
       "      <td>0</td>\n",
       "      <td>11</td>\n",
       "      <td>43</td>\n",
       "      <td>6</td>\n",
       "    </tr>\n",
       "    <tr>\n",
       "      <th>5065348</th>\n",
       "      <td>eb90469b91e22f5ba12986acd873def9</td>\n",
       "      <td>main_screen</td>\n",
       "      <td>14</td>\n",
       "      <td>30</td>\n",
       "      <td>0</td>\n",
       "      <td>90</td>\n",
       "      <td>0</td>\n",
       "      <td>0</td>\n",
       "      <td>0</td>\n",
       "      <td>0</td>\n",
       "      <td>0</td>\n",
       "      <td>0</td>\n",
       "      <td>0</td>\n",
       "      <td>39</td>\n",
       "      <td>3</td>\n",
       "    </tr>\n",
       "    <tr>\n",
       "      <th>5065349</th>\n",
       "      <td>73b4ee58ec16778d9e966bdc0595fcb7</td>\n",
       "      <td>chat</td>\n",
       "      <td>25</td>\n",
       "      <td>20</td>\n",
       "      <td>5</td>\n",
       "      <td>172</td>\n",
       "      <td>0</td>\n",
       "      <td>0</td>\n",
       "      <td>0</td>\n",
       "      <td>0</td>\n",
       "      <td>0</td>\n",
       "      <td>0</td>\n",
       "      <td>17</td>\n",
       "      <td>35</td>\n",
       "      <td>50</td>\n",
       "    </tr>\n",
       "  </tbody>\n",
       "</table>\n",
       "<p>4874702 rows × 15 columns</p>\n",
       "</div>"
      ],
      "text/plain": [
       "                               client_pin multi_class_target  Week  Day  \\\n",
       "0        7cf9221322a0e2fdefb1b998b8f2ab29        main_screen    25   15   \n",
       "1        5f16c0ab27a806fd08db3122921adf3a             invest    12   21   \n",
       "2        ec868fc2b388293cf10e18ee9518d72f          statement     4   24   \n",
       "3        91f55a33d7502c1a1fa5da7ff2f7b648        main_screen    11   15   \n",
       "4        3ef1020bda95ce7836d2680fa553ecb7        main_screen     8   20   \n",
       "...                                   ...                ...   ...  ...   \n",
       "5065345  8f1fc0c1216403afc07b5d602680b313        main_screen    25   16   \n",
       "5065346  2675ab80450c36c8f2600d8dcd60b43c        main_screen    17   22   \n",
       "5065347  2c5e889f5360eabefc21181240d0d38e        main_screen    23    2   \n",
       "5065348  eb90469b91e22f5ba12986acd873def9        main_screen    14   30   \n",
       "5065349  73b4ee58ec16778d9e966bdc0595fcb7               chat    25   20   \n",
       "\n",
       "         Dayofweek  Dayofyear  Is_month_end  Is_month_start  Is_quarter_end  \\\n",
       "0                0        167             0               0               0   \n",
       "1                5         81             0               0               0   \n",
       "2                4         24             0               0               0   \n",
       "3                6         75             0               0               0   \n",
       "4                3         51             0               0               0   \n",
       "...            ...        ...           ...             ...             ...   \n",
       "5065345          1        168             0               0               0   \n",
       "5065346          2        113             0               0               0   \n",
       "5065347          1        154             0               0               0   \n",
       "5065348          0         90             0               0               0   \n",
       "5065349          5        172             0               0               0   \n",
       "\n",
       "         Is_quarter_start  Is_year_end  Is_year_start  Hour  Minute  Second  \n",
       "0                       0            0              0    14       1      12  \n",
       "1                       0            0              0    12      59      34  \n",
       "2                       0            0              0    18      18      55  \n",
       "3                       0            0              0    19      50      23  \n",
       "4                       0            0              0     7      56      58  \n",
       "...                   ...          ...            ...   ...     ...     ...  \n",
       "5065345                 0            0              0    15      21       0  \n",
       "5065346                 0            0              0    20      31       9  \n",
       "5065347                 0            0              0    11      43       6  \n",
       "5065348                 0            0              0     0      39       3  \n",
       "5065349                 0            0              0    17      35      50  \n",
       "\n",
       "[4874702 rows x 15 columns]"
      ]
     },
     "execution_count": 11,
     "metadata": {},
     "output_type": "execute_result"
    }
   ],
   "source": [
    "train_dataset"
   ]
  },
  {
   "cell_type": "code",
   "execution_count": 5,
   "metadata": {},
   "outputs": [],
   "source": [
    "train_data = train_dataset.drop([\"multi_class_target\"], axis=1).values\n",
    "train_labels = train_dataset.multi_class_target.values\n",
    "val_data = val_dataset.drop([\"multi_class_target\"], axis=1).values\n",
    "val_labels = val_dataset.multi_class_target.values\n",
    "\n",
    "train_pool = Pool(train_data, \n",
    "                  train_labels, cat_features=[i for i in range(train_data.shape[1])])\n",
    "val_pool = Pool(val_data, \n",
    "                  val_labels, cat_features=[i for i in range(val_data.shape[1])])\n",
    "\n",
    "test_pool= Pool(test_dataset.values, cat_features=[i for i in range(test_dataset.values.shape[1])])"
   ]
  },
  {
   "cell_type": "code",
   "execution_count": 6,
   "metadata": {},
   "outputs": [
    {
     "name": "stdout",
     "output_type": "stream",
     "text": [
      "0:\tlearn: 0.4273354\ttest: 0.3997972\tbest: 0.3997972 (0)\ttotal: 49.4s\tremaining: 15m 38s\n",
      "1:\tlearn: 0.4367500\ttest: 0.4083757\tbest: 0.4083757 (1)\ttotal: 1m 35s\tremaining: 14m 22s\n",
      "2:\tlearn: 0.4358085\ttest: 0.4073154\tbest: 0.4083757 (1)\ttotal: 2m 14s\tremaining: 12m 41s\n",
      "3:\tlearn: 0.4397085\ttest: 0.4110579\tbest: 0.4110579 (3)\ttotal: 2m 59s\tremaining: 11m 58s\n",
      "4:\tlearn: 0.4420618\ttest: 0.4112746\tbest: 0.4112746 (4)\ttotal: 3m 38s\tremaining: 10m 54s\n",
      "5:\tlearn: 0.4402289\ttest: 0.4101375\tbest: 0.4112746 (4)\ttotal: 4m 31s\tremaining: 10m 32s\n",
      "6:\tlearn: 0.4417178\ttest: 0.4121822\tbest: 0.4121822 (6)\ttotal: 5m 10s\tremaining: 9m 36s\n",
      "7:\tlearn: 0.4420684\ttest: 0.4118245\tbest: 0.4121822 (6)\ttotal: 5m 48s\tremaining: 8m 42s\n",
      "8:\tlearn: 0.4437574\ttest: 0.4126399\tbest: 0.4126399 (8)\ttotal: 6m 43s\tremaining: 8m 12s\n",
      "9:\tlearn: 0.4440061\ttest: 0.4124160\tbest: 0.4126399 (8)\ttotal: 7m 15s\tremaining: 7m 15s\n",
      "10:\tlearn: 0.4442843\ttest: 0.4133888\tbest: 0.4133888 (10)\ttotal: 7m 42s\tremaining: 6m 18s\n",
      "11:\tlearn: 0.4447333\ttest: 0.4136724\tbest: 0.4136724 (11)\ttotal: 8m 21s\tremaining: 5m 34s\n",
      "12:\tlearn: 0.4447309\ttest: 0.4137959\tbest: 0.4137959 (12)\ttotal: 8m 39s\tremaining: 4m 39s\n",
      "13:\tlearn: 0.4453475\ttest: 0.4138084\tbest: 0.4138084 (13)\ttotal: 9m 3s\tremaining: 3m 52s\n",
      "14:\tlearn: 0.4459189\ttest: 0.4145847\tbest: 0.4145847 (14)\ttotal: 9m 21s\tremaining: 3m 7s\n",
      "15:\tlearn: 0.4467853\ttest: 0.4157509\tbest: 0.4157509 (15)\ttotal: 9m 51s\tremaining: 2m 27s\n",
      "16:\tlearn: 0.4471705\ttest: 0.4154031\tbest: 0.4157509 (15)\ttotal: 10m 15s\tremaining: 1m 48s\n",
      "17:\tlearn: 0.4480976\ttest: 0.4165062\tbest: 0.4165062 (17)\ttotal: 10m 32s\tremaining: 1m 10s\n",
      "18:\tlearn: 0.4483451\ttest: 0.4162684\tbest: 0.4165062 (17)\ttotal: 10m 49s\tremaining: 34.2s\n",
      "19:\tlearn: 0.4491823\ttest: 0.4164428\tbest: 0.4165062 (17)\ttotal: 11m 6s\tremaining: 0us\n",
      "\n",
      "bestTest = 0.4165062468\n",
      "bestIteration = 17\n",
      "\n",
      "Shrink model to first 18 iterations.\n"
     ]
    },
    {
     "data": {
      "text/plain": [
       "{'learn': {'TotalF1': 0.4491822659215517, 'MultiClass': 1.866505789556933},\n",
       " 'validation': {'TotalF1': 0.41650624680951115,\n",
       "  'MultiClass': 1.9144766801747028}}"
      ]
     },
     "execution_count": 6,
     "metadata": {},
     "output_type": "execute_result"
    }
   ],
   "source": [
    "\n",
    "param = {'iterations':5, 'loss_function':'MultiClass','eval_metric':'TotalF1',\n",
    "         'l2_leaf_reg':3.0, 'auto_class_weights':'Balanced', 'boosting_type':'Plain',\n",
    "        'depth':10}\n",
    "model = CatBoost(param)\n",
    "#train the model\n",
    "model.fit(train_pool, eval_set=val_pool) \n",
    "# make the prediction using the resulting model\n",
    "preds_class = model.predict(val_pool, prediction_type='Class')\n",
    "preds_proba = model.predict(val_pool, prediction_type='Probability')\n",
    "preds_raw_vals = model.predict(val_pool, prediction_type='RawFormulaVal')\n",
    "\n",
    "model.best_score_"
   ]
  },
  {
   "cell_type": "markdown",
   "metadata": {},
   "source": [
    "### Checking test"
   ]
  },
  {
   "cell_type": "code",
   "execution_count": 7,
   "metadata": {},
   "outputs": [
    {
     "data": {
      "text/plain": [
       "array([100.,   0.,   0.,   0.,   0.,   0.,   0.,   0.,   0.,   0.,   0.,\n",
       "         0.,   0.,   0.])"
      ]
     },
     "execution_count": 7,
     "metadata": {},
     "output_type": "execute_result"
    }
   ],
   "source": [
    "model.feature_importances_"
   ]
  }
 ],
 "metadata": {
  "kernelspec": {
   "display_name": "Python 3",
   "language": "python",
   "name": "python3"
  },
  "language_info": {
   "codemirror_mode": {
    "name": "ipython",
    "version": 3
   },
   "file_extension": ".py",
   "mimetype": "text/x-python",
   "name": "python",
   "nbconvert_exporter": "python",
   "pygments_lexer": "ipython3",
   "version": "3.7.6"
  }
 },
 "nbformat": 4,
 "nbformat_minor": 4
}
