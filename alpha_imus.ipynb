{
 "cells": [
  {
   "cell_type": "markdown",
   "metadata": {},
   "source": [
    "# Imports"
   ]
  },
  {
   "cell_type": "code",
   "execution_count": null,
   "metadata": {},
   "outputs": [],
   "source": [
    "import pandas as pd\n",
    "import numpy as np\n",
    "\n",
    "import matplotlib.pyplot as plt\n",
    "import seaborn as sns\n",
    "\n",
    "from sklearn.model_selection import train_test_split\n",
    "from catboost import CatBoostClassifier, Pool\n",
    "from catboost.metrics import TotalF1\n",
    "\n"
   ]
  },
  {
   "cell_type": "markdown",
   "metadata": {},
   "source": [
    "# Constants"
   ]
  },
  {
   "cell_type": "code",
   "execution_count": null,
   "metadata": {},
   "outputs": [],
   "source": [
    "TARGETS = ['main_screen', 'invest', 'statement', 'phone_money_transfer',\n",
    "       'own_transfer', 'credit_info', 'chat', 'card2card_transfer',\n",
    "       'mobile_recharge', 'card_recharge']"
   ]
  },
  {
   "cell_type": "markdown",
   "metadata": {},
   "source": [
    "# Data Load"
   ]
  },
  {
   "cell_type": "code",
   "execution_count": null,
   "metadata": {
    "cell_style": "split"
   },
   "outputs": [],
   "source": [
    "train_target = pd.read_csv(\"alfabattle2_abattle_train_target.csv\")\n",
    "train_target.sort_values(\"timestamp\", inplace=True)\n",
    "train_target.head()"
   ]
  },
  {
   "cell_type": "code",
   "execution_count": null,
   "metadata": {
    "cell_style": "split"
   },
   "outputs": [],
   "source": [
    "train_target.groupby(\"client_pin\")[\"session_id\"].count().reset_index()[\"session_id\"].describe()"
   ]
  },
  {
   "cell_type": "code",
   "execution_count": null,
   "metadata": {},
   "outputs": [],
   "source": [
    "plt.figure(figsize=(40, 3))\n",
    "plt.gca().set_xticks(list(range(0, 100, 15)) + list(range(100, 2000, 100)))\n",
    "sns.boxplot(train_target.groupby(\"client_pin\")[\"session_id\"].count().reset_index()[\"session_id\"])"
   ]
  },
  {
   "cell_type": "markdown",
   "metadata": {},
   "source": [
    "# Data Train\\Val split"
   ]
  },
  {
   "cell_type": "code",
   "execution_count": null,
   "metadata": {},
   "outputs": [],
   "source": [
    "train_target.head()"
   ]
  },
  {
   "cell_type": "code",
   "execution_count": null,
   "metadata": {
    "cell_style": "center",
    "code_folding": [
     100
    ]
   },
   "outputs": [],
   "source": [
    "class ExtractorLastNTarget():\n",
    "    def __init__(self, by: str, target: str, num: int=10):\n",
    "        self.num = num\n",
    "        self.by = by\n",
    "        self.target = target\n",
    "        \n",
    "    def __call__(self, X: pd.DataFrame) -> pd.DataFrame:\n",
    "        \"\"\"  Add last <num> <target> feature\n",
    "            grouped <by> field\n",
    "        \"\"\"\n",
    "        X_new = X.copy()\n",
    "        columns = []\n",
    "        for i in range(1, self.num+1):\n",
    "            columns.append(f\"f_last_{i}\")\n",
    "            X_new[f\"f_last_{i}\"] = X_new.groupby(self.by)[self.target].shift(i)\n",
    "        X_new[columns] = X_new[columns].replace(np.NaN, \"NaN\") \n",
    "        return X_new   \n",
    "    \n",
    "    def __repr__(self):\n",
    "        return f\"LastNTarget {self.num}\"\n",
    "    \n",
    "    \n",
    "class ExtractorClientTargetFreq():      \n",
    "    def __init__(self, column: str):\n",
    "        self.column = column\n",
    "        \n",
    "    def __call__(self, X: pd.DataFrame) -> pd.DataFrame:\n",
    "        \"\"\"  Add client frequency till the moment\n",
    "        \"\"\"\n",
    "        X_new = X.copy()\n",
    "        client_freq, columns = self.prepare_user_freq_matrix(X_new)        \n",
    "        X_new[columns] = client_freq[columns]  \n",
    "        return X_new  \n",
    "    \n",
    "    def prepare_user_freq_matrix(self, X: pd.DataFrame) -> pd.DataFrame:\n",
    "        X_new = X.copy()\n",
    "        X_new[\"f_total\"] = X_new.groupby(\"client_pin\")[\"session_id\"].cumcount()\n",
    "        X_new[\"count_per_target\"] = X_new.groupby([\"client_pin\", \"multi_class_target\"])[\"session_id\"].cumcount()\n",
    "        X_new[\"f_total\"] = pd.to_numeric(X_new[\"f_total\"], downcast=\"unsigned\")\n",
    "        X_new[\"count_per_target\"] = pd.to_numeric(X_new[\"count_per_target\"], downcast=\"unsigned\")\n",
    "        columns_names = [\"f_total\"]\n",
    "        for t in X_new[self.column].unique():\n",
    "            X_new.loc[X_new[self.column] == t, f\"cum_{t}\"] = X_new.loc[X_new[self.column] == t, \"count_per_target\"]            \n",
    "            X_new[f\"cum_{t}\"] = X_new.groupby(\"client_pin\")[f\"cum_{t}\"].fillna(method='ffill')\n",
    "            X_new[f\"cum_{t}\"] = X_new[f\"cum_{t}\"].replace(np.NaN, 0)\n",
    "            X_new[f\"f_freq_{t}\"] = X_new[f\"cum_{t}\"].div(X_new[\"f_total\"])  \n",
    "            X_new[f\"f_freq_{t}\"] = X_new[f\"f_freq_{t}\"].replace(np.NaN, 0)\n",
    "            columns_names.append(f\"f_freq_{t}\")\n",
    "        return X_new, columns_names\n",
    "    \n",
    "    def __repr__(self):\n",
    "        return f\"ClientTargetFreq\"\n",
    "    \n",
    "    \n",
    "class FilterMinTotal():\n",
    "    \"\"\" Filter dataset by \"f_total\" field. \n",
    "    If <remove_index> specified  will not removed client \n",
    "    with max_f_total < <filter_min_target>\n",
    "    \"\"\"\n",
    "    def __init__(self, index: str=\"client_pin\", target: str=\"f_total\", filter_min_target: int=20, remove_index: bool=False):\n",
    "        self.index = index\n",
    "        self.target = target\n",
    "        self.filter_min_target = filter_min_target\n",
    "        self.remove_index = remove_index\n",
    "        \n",
    "    def __call__(self, X: pd.DataFrame) -> pd.DataFrame:\n",
    "        X_copy = X.copy()             \n",
    "        X_cleared = X_copy[X_copy[self.target] >= self.filter_min_target]        \n",
    "        index_array = X_copy[self.index].unique()  \n",
    "        cleared_index_array = X_cleared[self.index].unique() \n",
    "        removed_index_array = np.setxor1d(index_array, cleared_index_array)\n",
    "        X_filtered = X_cleared\n",
    "        if len(removed_index_array) > 0:\n",
    "            if self.remove_index:                 \n",
    "                print(f\"{self.__class__.__name__}: {len(removed_index_array)} clients were removed\")\n",
    "            else:\n",
    "                X_copy[f\"max_{self.target}\"] = X_copy.groupby(self.index)[self.target].max()                 \n",
    "                X_filtered = X_copy[(X_copy[self.target] >= self.filter_min_target) | (X_copy[f\"max_{self.target}\"] == X_copy[self.target])]  \n",
    "                X_filtered = X_filtered.drop(f\"max_{self.target}\", axis=1)\n",
    "                print(f\"{self.__class__.__name__}: {len(removed_index_array)} clients were removed and merged back\")\n",
    "        return X_filtered\n",
    "    \n",
    "    def __repr__(self):\n",
    "        return f\"FilterMinTotal: \\n {self.target} >= {self.filter_min_target} by={self.index}\"\n",
    "        \n",
    "def create_feature(X: pd.DataFrame, feature_gen_list: list) -> pd.DataFrame:\n",
    "    \"\"\" Create dataset features\n",
    "    \n",
    "    Attributes\n",
    "    ----------\n",
    "    X: pd.DataFrame\n",
    "     initial feature\n",
    "    y: np.ndarray\n",
    "     target\n",
    "    feature_config: dict\n",
    "     config with feature generatation functions\n",
    "    \"\"\"\n",
    "    X_new = X.copy()\n",
    "    for fg in feature_gen_list:\n",
    "        print(f\"Adding feature with {fg}:-------\")\n",
    "        X_new = fg(X_new)\n",
    "    return X_new\n",
    "\n",
    "def filter_feature(X: pd.DataFrame, feature_filter_list: list) -> pd.DataFrame:\n",
    "    X_filtered = X.copy()\n",
    "    for ff in feature_filter_list:\n",
    "        print(f\"{ff}\")\n",
    "        X_filtered = ff(X_filtered)\n",
    "    return X_filtered"
   ]
  },
  {
   "cell_type": "code",
   "execution_count": null,
   "metadata": {
    "cell_style": "split"
   },
   "outputs": [],
   "source": [
    "feature_generator = [\n",
    "    ExtractorLastNTarget(by=\"client_pin\",\n",
    "                target=\"multi_class_target\",\n",
    "                num=30),\n",
    "    ExtractorClientTargetFreq(column=\"multi_class_target\")\n",
    "]\n",
    "\n",
    "train_target_featured = create_feature(train_target, feature_generator)"
   ]
  },
  {
   "cell_type": "code",
   "execution_count": null,
   "metadata": {
    "cell_style": "split"
   },
   "outputs": [],
   "source": [
    "feature_generator_filter = [\n",
    "    #FilterMinTotal(target=\"f_total\", filter_min_target=20)\n",
    "]\n",
    "\n",
    "train_target_featured_filtered = filter_feature(train_target_featured, feature_generator_filter)"
   ]
  },
  {
   "cell_type": "code",
   "execution_count": null,
   "metadata": {
    "scrolled": true
   },
   "outputs": [],
   "source": [
    "train_target_featured_filtered"
   ]
  },
  {
   "cell_type": "code",
   "execution_count": null,
   "metadata": {},
   "outputs": [],
   "source": [
    "train_target_featured_filtered.columns"
   ]
  },
  {
   "cell_type": "markdown",
   "metadata": {},
   "source": [
    "# Learn a model"
   ]
  },
  {
   "cell_type": "code",
   "execution_count": null,
   "metadata": {
    "cell_style": "split"
   },
   "outputs": [],
   "source": [
    "features_list = [c for c in train_target_featured_filtered.columns if c.startswith(\"f_\")]\n",
    "features_list\n",
    "\n",
    "cat_features = [c for c in features_list if c.startswith(\"f_last\")]\n",
    "num_features = ['f_total',\n",
    " 'f_freq_mobile_recharge',\n",
    " 'f_freq_statement',\n",
    " 'f_freq_phone_money_transfer',\n",
    " 'f_freq_chat',\n",
    " 'f_freq_invest',\n",
    " 'f_freq_main_screen',\n",
    " 'f_freq_own_transfer',\n",
    " 'f_freq_card_recharge',\n",
    " 'f_freq_credit_info',\n",
    " 'f_freq_card2card_transfer']"
   ]
  },
  {
   "cell_type": "code",
   "execution_count": null,
   "metadata": {
    "cell_style": "split"
   },
   "outputs": [],
   "source": [
    "assert train_target_featured_filtered.timestamp.is_monotonic\n",
    "X_train, X_val, y_train, y_val = train_test_split(train_target_featured_filtered[features_list],\n",
    "                                                  train_target_featured_filtered.multi_class_target,\n",
    "                                                  train_size=0.8, random_state=42, shuffle=False)"
   ]
  },
  {
   "cell_type": "code",
   "execution_count": null,
   "metadata": {},
   "outputs": [],
   "source": []
  },
  {
   "cell_type": "code",
   "execution_count": null,
   "metadata": {
    "cell_style": "split"
   },
   "outputs": [],
   "source": [
    "model = CatBoostClassifier(\n",
    "    iterations=200,\n",
    "    learning_rate=0.1,\n",
    "    save_snapshot=True\n",
    "    # loss_function='CrossEntropy'\n",
    ")\n",
    "model.fit(\n",
    "    X_train, y_train,\n",
    "    cat_features=cat_features,\n",
    "    eval_set=(X_val, y_val),\n",
    "    verbose=False,\n",
    "    plot=True\n",
    ")\n",
    "print('Model is fitted: ' + str(model.is_fitted()))\n",
    "print('Model params:')\n",
    "print(model.get_params())"
   ]
  },
  {
   "cell_type": "code",
   "execution_count": null,
   "metadata": {
    "cell_style": "split"
   },
   "outputs": [],
   "source": [
    "pool = Pool(data=X_val, label=y_val, cat_features=cat_features)\n",
    "\n",
    "metrics = model.eval_metrics(\n",
    "    data=pool,\n",
    "    metrics=['TotalF1:average=Macro'],\n",
    "    ntree_start=0,\n",
    "    ntree_end=0,\n",
    "    eval_period=1,\n",
    "    plot=True\n",
    ")"
   ]
  },
  {
   "cell_type": "code",
   "execution_count": null,
   "metadata": {},
   "outputs": [],
   "source": [
    "pool = Pool(data=X_val, label=y_val, cat_features=cat_features)\n",
    "\n",
    "metrics = model.eval_metrics(\n",
    "    data=pool,\n",
    "    metrics=['TotalF1:average=Macro;use_weights=False'],\n",
    "    ntree_start=0,\n",
    "    ntree_end=0,\n",
    "    eval_period=1,\n",
    "    plot=True\n",
    ")"
   ]
  },
  {
   "cell_type": "code",
   "execution_count": null,
   "metadata": {
    "cell_style": "split"
   },
   "outputs": [],
   "source": [
    "model.feature_importances_"
   ]
  },
  {
   "cell_type": "markdown",
   "metadata": {},
   "source": [
    "# Make Prediction"
   ]
  },
  {
   "cell_type": "code",
   "execution_count": null,
   "metadata": {},
   "outputs": [],
   "source": [
    "test_target = pd.read_csv(\"alfabattle2_prediction_session_timestamp.csv\")\n",
    "test_target.head()"
   ]
  },
  {
   "cell_type": "code",
   "execution_count": null,
   "metadata": {},
   "outputs": [],
   "source": [
    "test_target = pd.read_csv(\"alfabattle2_prediction_session_timestamp.csv\")\n",
    "test_target[\"test\"] = True\n",
    "test_target = pd.concat([test_target, train_target], axis=0).reset_index(drop=True)\n",
    "test_target.sort_values(\"timestamp\", inplace=True)"
   ]
  },
  {
   "cell_type": "code",
   "execution_count": null,
   "metadata": {},
   "outputs": [],
   "source": [
    "test_target.test.replace(np.NaN, False, inplace=True)\n",
    "test_target.loc[test_target.test, \"multi_class_target\"] = \"statement\"\n",
    "test_target"
   ]
  },
  {
   "cell_type": "code",
   "execution_count": null,
   "metadata": {},
   "outputs": [],
   "source": [
    "test_target.loc[test_target.test, \"session_id\"] = np.arange(len(test_target.loc[test_target.test, \"session_id\"]))\n",
    "test_target"
   ]
  },
  {
   "cell_type": "code",
   "execution_count": null,
   "metadata": {},
   "outputs": [],
   "source": [
    "# ExtractorClientTargetFreq(column=\"multi_class_target\").prepare_user_freq_matrix(test_target)"
   ]
  },
  {
   "cell_type": "code",
   "execution_count": null,
   "metadata": {
    "scrolled": false
   },
   "outputs": [],
   "source": [
    "test_featured = create_feature(test_target, feature_generator)\n",
    "# test_featured_filtered = filter_feature(test_featured, feature_generator_filter)"
   ]
  },
  {
   "cell_type": "code",
   "execution_count": null,
   "metadata": {},
   "outputs": [],
   "source": [
    "X_test = test_featured.loc[test_featured.test, features_list]\n",
    "X_test[cat_features] = X_test[cat_features].replace(np.NaN, \"NaN\")\n",
    "best_model = model\n",
    "\n",
    "test_pool = Pool(data=X_test, cat_features=cat_features)\n",
    "contest_predictions = best_model.predict_proba(test_pool)\n",
    "print('Predictions:')\n",
    "print(contest_predictions)"
   ]
  },
  {
   "cell_type": "code",
   "execution_count": null,
   "metadata": {},
   "outputs": [],
   "source": [
    "prediction = pd.read_csv(\"alfabattle2_abattle_sample_prediction.csv\")\n",
    "prediction[\"prediction\"] = pd.Series(best_model.predict(test_pool, prediction_type=\"Class\").reshape(-1))\n",
    "prediction"
   ]
  },
  {
   "cell_type": "code",
   "execution_count": null,
   "metadata": {},
   "outputs": [],
   "source": [
    "prediction.to_csv(\"submission.csv\", index=False)"
   ]
  },
  {
   "cell_type": "code",
   "execution_count": null,
   "metadata": {},
   "outputs": [],
   "source": [
    "pd.read_csv(\"alfabattle2_prediction_session_timestamp.csv\")"
   ]
  },
  {
   "cell_type": "code",
   "execution_count": null,
   "metadata": {},
   "outputs": [],
   "source": [
    "def preprocess_test(X: pd.DataFrame):\n",
    "    X[\"test\"] = True\n",
    "    "
   ]
  },
  {
   "cell_type": "code",
   "execution_count": null,
   "metadata": {},
   "outputs": [],
   "source": []
  },
  {
   "cell_type": "markdown",
   "metadata": {
    "heading_collapsed": true
   },
   "source": [
    "# Lost in time and space"
   ]
  },
  {
   "cell_type": "code",
   "execution_count": null,
   "metadata": {
    "hidden": true
   },
   "outputs": [],
   "source": [
    "    \n",
    "#     def prepare_user_freq_matrix(self, X: pd.DataFrame) -> pd.DataFrame:\n",
    "#         client_freq = pd.pivot_table(X, index=self.index,\n",
    "#                        columns=self.column,\n",
    "#                       values=\"session_id\",\n",
    "#                       aggfunc=\"count\")\n",
    "#         client_freq.replace(np.NaN, 0, inplace=True)\n",
    "#         client_freq[\"total\"] = client_freq.sum(axis=1)\n",
    "#         client_freq = client_freq.div(client_freq[\"total\"], axis=0)\n",
    "#         client_freq.drop(\"total\", axis=1, inplace=True)\n",
    "#         client_freq.columns = [f\"f_freq_{c}\"for c in client_freq.columns]\n",
    "#         client_freq.columns.name = None\n",
    "#         client_freq = client_freq.reset_index()        \n",
    "#         return client_freq"
   ]
  }
 ],
 "metadata": {
  "kernelspec": {
   "display_name": "Python 3",
   "language": "python",
   "name": "python3"
  },
  "language_info": {
   "codemirror_mode": {
    "name": "ipython",
    "version": 3
   },
   "file_extension": ".py",
   "mimetype": "text/x-python",
   "name": "python",
   "nbconvert_exporter": "python",
   "pygments_lexer": "ipython3",
   "version": "3.8.5"
  }
 },
 "nbformat": 4,
 "nbformat_minor": 4
}
