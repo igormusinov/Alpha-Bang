{
 "cells": [
  {
   "cell_type": "markdown",
   "metadata": {},
   "source": [
    "# Imports"
   ]
  },
  {
   "cell_type": "code",
   "execution_count": 1,
   "metadata": {},
   "outputs": [],
   "source": [
    "import pandas as pd\n",
    "import numpy as np"
   ]
  },
  {
   "cell_type": "code",
   "execution_count": 8,
   "metadata": {},
   "outputs": [
    {
     "name": "stdout",
     "output_type": "stream",
     "text": [
      "Collecting package metadata (current_repodata.json): done\n",
      "Solving environment: done\n",
      "\n",
      "## Package Plan ##\n",
      "\n",
      "  environment location: /opt/conda\n",
      "\n",
      "  added / updated specs:\n",
      "    - pyarrow\n",
      "\n",
      "\n",
      "The following packages will be downloaded:\n",
      "\n",
      "    package                    |            build\n",
      "    ---------------------------|-----------------\n",
      "    abseil-cpp-20200225.2      |       he1b5a44_2         915 KB  conda-forge\n",
      "    arrow-cpp-2.0.0            |py38ha9d6ab6_6_cpu        20.6 MB  conda-forge\n",
      "    aws-c-common-0.4.59        |       h36c2ea0_1         160 KB  conda-forge\n",
      "    aws-c-event-stream-0.1.6   |       had2084c_6          25 KB  conda-forge\n",
      "    aws-checksums-0.1.10       |       h4e93380_0          50 KB  conda-forge\n",
      "    aws-sdk-cpp-1.8.70         |       h57dc084_1         2.2 MB  conda-forge\n",
      "    brotli-1.0.9               |       he1b5a44_3         395 KB  conda-forge\n",
      "    c-ares-1.17.1              |       h36c2ea0_0         111 KB  conda-forge\n",
      "    conda-4.9.2                |   py38h578d9bd_0         3.0 MB  conda-forge\n",
      "    gflags-2.2.2               |    he1b5a44_1004         114 KB  conda-forge\n",
      "    glog-0.4.0                 |       h49b9bf7_3         104 KB  conda-forge\n",
      "    grpc-cpp-1.33.2            |       h1870a98_1         3.2 MB  conda-forge\n",
      "    libevent-2.1.10            |       hcdb4288_3         1.1 MB  conda-forge\n",
      "    libprotobuf-3.13.0.1       |       h8b12597_0         2.3 MB  conda-forge\n",
      "    libthrift-0.13.0           |       h5aa387f_6         3.3 MB  conda-forge\n",
      "    libutf8proc-2.5.0          |       h14c3975_2          77 KB\n",
      "    orc-1.6.5                  |       hd3605a7_0         731 KB  conda-forge\n",
      "    parquet-cpp-1.5.1          |                2           3 KB  conda-forge\n",
      "    pyarrow-2.0.0              |py38h5703e5b_6_cpu         2.3 MB  conda-forge\n",
      "    python_abi-3.8             |           1_cp38           4 KB  conda-forge\n",
      "    re2-2020.11.01             |       h58526e2_0         226 KB  conda-forge\n",
      "    snappy-1.1.8               |       he1b5a44_3          32 KB  conda-forge\n",
      "    ------------------------------------------------------------\n",
      "                                           Total:        40.9 MB\n",
      "\n",
      "The following NEW packages will be INSTALLED:\n",
      "\n",
      "  abseil-cpp         conda-forge/linux-64::abseil-cpp-20200225.2-he1b5a44_2\n",
      "  arrow-cpp          conda-forge/linux-64::arrow-cpp-2.0.0-py38ha9d6ab6_6_cpu\n",
      "  aws-c-common       conda-forge/linux-64::aws-c-common-0.4.59-h36c2ea0_1\n",
      "  aws-c-event-stream conda-forge/linux-64::aws-c-event-stream-0.1.6-had2084c_6\n",
      "  aws-checksums      conda-forge/linux-64::aws-checksums-0.1.10-h4e93380_0\n",
      "  aws-sdk-cpp        conda-forge/linux-64::aws-sdk-cpp-1.8.70-h57dc084_1\n",
      "  brotli             conda-forge/linux-64::brotli-1.0.9-he1b5a44_3\n",
      "  c-ares             conda-forge/linux-64::c-ares-1.17.1-h36c2ea0_0\n",
      "  gflags             conda-forge/linux-64::gflags-2.2.2-he1b5a44_1004\n",
      "  glog               conda-forge/linux-64::glog-0.4.0-h49b9bf7_3\n",
      "  grpc-cpp           conda-forge/linux-64::grpc-cpp-1.33.2-h1870a98_1\n",
      "  libevent           conda-forge/linux-64::libevent-2.1.10-hcdb4288_3\n",
      "  libprotobuf        conda-forge/linux-64::libprotobuf-3.13.0.1-h8b12597_0\n",
      "  libthrift          conda-forge/linux-64::libthrift-0.13.0-h5aa387f_6\n",
      "  libutf8proc        pkgs/main/linux-64::libutf8proc-2.5.0-h14c3975_2\n",
      "  orc                conda-forge/linux-64::orc-1.6.5-hd3605a7_0\n",
      "  parquet-cpp        conda-forge/noarch::parquet-cpp-1.5.1-2\n",
      "  pyarrow            conda-forge/linux-64::pyarrow-2.0.0-py38h5703e5b_6_cpu\n",
      "  python_abi         conda-forge/linux-64::python_abi-3.8-1_cp38\n",
      "  re2                conda-forge/linux-64::re2-2020.11.01-h58526e2_0\n",
      "  snappy             conda-forge/linux-64::snappy-1.1.8-he1b5a44_3\n",
      "\n",
      "The following packages will be SUPERSEDED by a higher-priority channel:\n",
      "\n",
      "  conda               pkgs/main::conda-4.9.2-py38h06a4308_0 --> conda-forge::conda-4.9.2-py38h578d9bd_0\n",
      "\n",
      "\n",
      "\n",
      "Downloading and Extracting Packages\n",
      "libutf8proc-2.5.0    | 77 KB     | ##################################### | 100% \n",
      "arrow-cpp-2.0.0      | 20.6 MB   | ##################################### | 100% \n",
      "gflags-2.2.2         | 114 KB    | ##################################### | 100% \n",
      "abseil-cpp-20200225. | 915 KB    | ##################################### | 100% \n",
      "python_abi-3.8       | 4 KB      | ##################################### | 100% \n",
      "pyarrow-2.0.0        | 2.3 MB    | ##################################### | 100% \n",
      "glog-0.4.0           | 104 KB    | ##################################### | 100% \n",
      "aws-checksums-0.1.10 | 50 KB     | ##################################### | 100% \n",
      "conda-4.9.2          | 3.0 MB    | ##################################### | 100% \n",
      "aws-c-event-stream-0 | 25 KB     | ##################################### | 100% \n",
      "re2-2020.11.01       | 226 KB    | ##################################### | 100% \n",
      "libevent-2.1.10      | 1.1 MB    | ##################################### | 100% \n",
      "libprotobuf-3.13.0.1 | 2.3 MB    | ##################################### | 100% \n",
      "parquet-cpp-1.5.1    | 3 KB      | ##################################### | 100% \n",
      "c-ares-1.17.1        | 111 KB    | ##################################### | 100% \n",
      "brotli-1.0.9         | 395 KB    | ##################################### | 100% \n",
      "snappy-1.1.8         | 32 KB     | ##################################### | 100% \n",
      "grpc-cpp-1.33.2      | 3.2 MB    | ##################################### | 100% \n",
      "aws-c-common-0.4.59  | 160 KB    | ##################################### | 100% \n",
      "libthrift-0.13.0     | 3.3 MB    | ##################################### | 100% \n",
      "aws-sdk-cpp-1.8.70   | 2.2 MB    | ##################################### | 100% \n",
      "orc-1.6.5            | 731 KB    | ##################################### | 100% \n",
      "Preparing transaction: done\n",
      "Verifying transaction: done\n",
      "Executing transaction: done\n",
      "\n",
      "Note: you may need to restart the kernel to use updated packages.\n"
     ]
    }
   ],
   "source": [
    "# conda install pyarrow -c conda-forge"
   ]
  },
  {
   "cell_type": "markdown",
   "metadata": {},
   "source": [
    "# Constants"
   ]
  },
  {
   "cell_type": "code",
   "execution_count": 2,
   "metadata": {},
   "outputs": [],
   "source": [
    "data_files = [\"clickstream/part-00000.parquet\"\n",
    "        \"clickstream/part-00001.parquet\",\n",
    "        \"clickstream/part-00002.parquet\",\n",
    "        \"clickstream/part-00003.parquet\",\n",
    "        \"clickstream/part-00004.parquet\",\n",
    "        \"clickstream/part-00005.parquet\",\n",
    "        \"clickstream/part-00006.parquet\",\n",
    "        \"clickstream/part-00007.parquet\",\n",
    "        \"clickstream/part-00008.parquet\",\n",
    "        \"clickstream/part-00009.parquet\"]"
   ]
  },
  {
   "cell_type": "markdown",
   "metadata": {},
   "source": [
    "# Data reading"
   ]
  },
  {
   "cell_type": "code",
   "execution_count": 3,
   "metadata": {},
   "outputs": [],
   "source": [
    "data_clickstream_df = pd.read_parquet(\"clickstream\", engine=\"pyarrow\")"
   ]
  },
  {
   "cell_type": "code",
   "execution_count": 4,
   "metadata": {},
   "outputs": [],
   "source": [
    "train_target_df = pd.read_csv(\"alfabattle2_abattle_train_target.csv\")\n",
    "test_target_df = pd.read_csv(\"alfabattle2_prediction_session_timestamp.csv\")"
   ]
  },
  {
   "cell_type": "code",
   "execution_count": 9,
   "metadata": {},
   "outputs": [
    {
     "name": "stdout",
     "output_type": "stream",
     "text": [
      "data_clickstream_df.shape=(120025286, 15)\n",
      "train_target_df.shape=(5065350, 4)\n",
      "test_target_df.shape=(79268, 2)\n"
     ]
    }
   ],
   "source": [
    "print(f\"{data_clickstream_df.shape=}\")\n",
    "print(f\"{train_target_df.shape=}\")\n",
    "print(f\"{test_target_df.shape=}\")"
   ]
  },
  {
   "cell_type": "code",
   "execution_count": 11,
   "metadata": {},
   "outputs": [
    {
     "data": {
      "text/html": [
       "<div>\n",
       "<style scoped>\n",
       "    .dataframe tbody tr th:only-of-type {\n",
       "        vertical-align: middle;\n",
       "    }\n",
       "\n",
       "    .dataframe tbody tr th {\n",
       "        vertical-align: top;\n",
       "    }\n",
       "\n",
       "    .dataframe thead th {\n",
       "        text-align: right;\n",
       "    }\n",
       "</style>\n",
       "<table border=\"1\" class=\"dataframe\">\n",
       "  <thead>\n",
       "    <tr style=\"text-align: right;\">\n",
       "      <th></th>\n",
       "      <th>timestamp</th>\n",
       "      <th>application_id</th>\n",
       "      <th>client</th>\n",
       "      <th>session_id</th>\n",
       "      <th>event_type</th>\n",
       "      <th>event_category</th>\n",
       "      <th>event_name</th>\n",
       "      <th>event_label</th>\n",
       "      <th>device_screen_name</th>\n",
       "      <th>timezone</th>\n",
       "      <th>device_is_webview</th>\n",
       "      <th>page_urlhost</th>\n",
       "      <th>page_urlpath_full</th>\n",
       "      <th>net_connection_type</th>\n",
       "      <th>net_connection_tech</th>\n",
       "    </tr>\n",
       "  </thead>\n",
       "  <tbody>\n",
       "    <tr>\n",
       "      <th>0</th>\n",
       "      <td>2020-01-15 08:46:32.579</td>\n",
       "      <td>anketa</td>\n",
       "      <td>107efb4507525ce982e19331b36b0e2f</td>\n",
       "      <td>9a1366886da59ec85f0ef5e06f1e97f6</td>\n",
       "      <td>pv</td>\n",
       "      <td>None</td>\n",
       "      <td>None</td>\n",
       "      <td>None</td>\n",
       "      <td>None</td>\n",
       "      <td>Asia/Omsk</td>\n",
       "      <td>True</td>\n",
       "      <td>anketa.alfabank.ru</td>\n",
       "      <td>03eb3ceab6204f8b602f1863f7fbce01</td>\n",
       "      <td>None</td>\n",
       "      <td>None</td>\n",
       "    </tr>\n",
       "    <tr>\n",
       "      <th>1</th>\n",
       "      <td>2020-04-29 19:20:09.705</td>\n",
       "      <td>anketa</td>\n",
       "      <td>32dac9ab28a497a8061e02786bb3a95a</td>\n",
       "      <td>bdf7fc21e4e88d1b4f0838c80b21a1e3</td>\n",
       "      <td>pv</td>\n",
       "      <td>None</td>\n",
       "      <td>None</td>\n",
       "      <td>None</td>\n",
       "      <td>None</td>\n",
       "      <td>Asia/Yekaterinburg</td>\n",
       "      <td>True</td>\n",
       "      <td>anketa.alfabank.ru</td>\n",
       "      <td>03eb3ceab6204f8b602f1863f7fbce01</td>\n",
       "      <td>None</td>\n",
       "      <td>None</td>\n",
       "    </tr>\n",
       "  </tbody>\n",
       "</table>\n",
       "</div>"
      ],
      "text/plain": [
       "                timestamp application_id                            client  \\\n",
       "0 2020-01-15 08:46:32.579         anketa  107efb4507525ce982e19331b36b0e2f   \n",
       "1 2020-04-29 19:20:09.705         anketa  32dac9ab28a497a8061e02786bb3a95a   \n",
       "\n",
       "                         session_id event_type event_category event_name  \\\n",
       "0  9a1366886da59ec85f0ef5e06f1e97f6         pv           None       None   \n",
       "1  bdf7fc21e4e88d1b4f0838c80b21a1e3         pv           None       None   \n",
       "\n",
       "  event_label device_screen_name            timezone device_is_webview  \\\n",
       "0        None               None           Asia/Omsk              True   \n",
       "1        None               None  Asia/Yekaterinburg              True   \n",
       "\n",
       "         page_urlhost                 page_urlpath_full net_connection_type  \\\n",
       "0  anketa.alfabank.ru  03eb3ceab6204f8b602f1863f7fbce01                None   \n",
       "1  anketa.alfabank.ru  03eb3ceab6204f8b602f1863f7fbce01                None   \n",
       "\n",
       "  net_connection_tech  \n",
       "0                None  \n",
       "1                None  "
      ]
     },
     "execution_count": 11,
     "metadata": {},
     "output_type": "execute_result"
    }
   ],
   "source": [
    "data_clickstream_df.head(2)"
   ]
  },
  {
   "cell_type": "code",
   "execution_count": 13,
   "metadata": {},
   "outputs": [
    {
     "data": {
      "text/html": [
       "<div>\n",
       "<style scoped>\n",
       "    .dataframe tbody tr th:only-of-type {\n",
       "        vertical-align: middle;\n",
       "    }\n",
       "\n",
       "    .dataframe tbody tr th {\n",
       "        vertical-align: top;\n",
       "    }\n",
       "\n",
       "    .dataframe thead th {\n",
       "        text-align: right;\n",
       "    }\n",
       "</style>\n",
       "<table border=\"1\" class=\"dataframe\">\n",
       "  <thead>\n",
       "    <tr style=\"text-align: right;\">\n",
       "      <th></th>\n",
       "      <th>session_id</th>\n",
       "      <th>client_pin</th>\n",
       "      <th>timestamp</th>\n",
       "      <th>multi_class_target</th>\n",
       "    </tr>\n",
       "  </thead>\n",
       "  <tbody>\n",
       "    <tr>\n",
       "      <th>0</th>\n",
       "      <td>0000029e72e5fcde6a9f29c3a3ed198f</td>\n",
       "      <td>7cf9221322a0e2fdefb1b998b8f2ab29</td>\n",
       "      <td>2020-06-15 14:01:12</td>\n",
       "      <td>main_screen</td>\n",
       "    </tr>\n",
       "    <tr>\n",
       "      <th>1</th>\n",
       "      <td>00063dffa47b0fe5556b2b9e8beddb6a</td>\n",
       "      <td>5f16c0ab27a806fd08db3122921adf3a</td>\n",
       "      <td>2020-03-21 12:59:34</td>\n",
       "      <td>invest</td>\n",
       "    </tr>\n",
       "  </tbody>\n",
       "</table>\n",
       "</div>"
      ],
      "text/plain": [
       "                         session_id                        client_pin  \\\n",
       "0  0000029e72e5fcde6a9f29c3a3ed198f  7cf9221322a0e2fdefb1b998b8f2ab29   \n",
       "1  00063dffa47b0fe5556b2b9e8beddb6a  5f16c0ab27a806fd08db3122921adf3a   \n",
       "\n",
       "             timestamp multi_class_target  \n",
       "0  2020-06-15 14:01:12        main_screen  \n",
       "1  2020-03-21 12:59:34             invest  "
      ]
     },
     "execution_count": 13,
     "metadata": {},
     "output_type": "execute_result"
    }
   ],
   "source": [
    "train_target_df.head(2)"
   ]
  },
  {
   "cell_type": "code",
   "execution_count": 16,
   "metadata": {},
   "outputs": [
    {
     "data": {
      "text/html": [
       "<div>\n",
       "<style scoped>\n",
       "    .dataframe tbody tr th:only-of-type {\n",
       "        vertical-align: middle;\n",
       "    }\n",
       "\n",
       "    .dataframe tbody tr th {\n",
       "        vertical-align: top;\n",
       "    }\n",
       "\n",
       "    .dataframe thead th {\n",
       "        text-align: right;\n",
       "    }\n",
       "</style>\n",
       "<table border=\"1\" class=\"dataframe\">\n",
       "  <thead>\n",
       "    <tr style=\"text-align: right;\">\n",
       "      <th></th>\n",
       "      <th>client_pin</th>\n",
       "      <th>timestamp</th>\n",
       "    </tr>\n",
       "  </thead>\n",
       "  <tbody>\n",
       "    <tr>\n",
       "      <th>0</th>\n",
       "      <td>f0c674b2bb4dc64be607029271d706ec</td>\n",
       "      <td>2020-08-01 00:00:53</td>\n",
       "    </tr>\n",
       "    <tr>\n",
       "      <th>1</th>\n",
       "      <td>90725b54ce77576883813d87749df6bd</td>\n",
       "      <td>2020-08-01 00:02:57</td>\n",
       "    </tr>\n",
       "  </tbody>\n",
       "</table>\n",
       "</div>"
      ],
      "text/plain": [
       "                         client_pin            timestamp\n",
       "0  f0c674b2bb4dc64be607029271d706ec  2020-08-01 00:00:53\n",
       "1  90725b54ce77576883813d87749df6bd  2020-08-01 00:02:57"
      ]
     },
     "execution_count": 16,
     "metadata": {},
     "output_type": "execute_result"
    }
   ],
   "source": [
    "test_target_df.head(2)"
   ]
  },
  {
   "cell_type": "markdown",
   "metadata": {},
   "source": [
    "# Check user distr"
   ]
  },
  {
   "cell_type": "code",
   "execution_count": 24,
   "metadata": {},
   "outputs": [
    {
     "name": "stdout",
     "output_type": "stream",
     "text": [
      "data_clickstream_unique_user.shape=(80376,)\n"
     ]
    }
   ],
   "source": [
    "data_clickstream_unique_user = data_clickstream_df.client.unique()\n",
    "print(f\"{data_clickstream_unique_user.shape=}\")"
   ]
  },
  {
   "cell_type": "code",
   "execution_count": 25,
   "metadata": {},
   "outputs": [
    {
     "name": "stdout",
     "output_type": "stream",
     "text": [
      "train_target_unique_user.shape=(79268,)\n",
      "test_target_unique_user.shape=(79268,)\n"
     ]
    }
   ],
   "source": [
    "train_target_unique_user = train_target_df.client_pin.unique()\n",
    "test_target_unique_user = test_target_df.client_pin.unique()\n",
    "\n",
    "print(f\"{train_target_unique_user.shape=}\")\n",
    "print(f\"{test_target_unique_user.shape=}\")"
   ]
  },
  {
   "cell_type": "code",
   "execution_count": 28,
   "metadata": {},
   "outputs": [],
   "source": [
    "assert np.intersect1d(data_clickstream_unique_user, train_target_unique_user).shape[0] == train_target_unique_user.shape[0], f\"Кол-во разных юзеров в кликстриме и train разное\""
   ]
  },
  {
   "cell_type": "code",
   "execution_count": 31,
   "metadata": {},
   "outputs": [],
   "source": [
    "assert np.intersect1d(data_clickstream_unique_user, test_target_unique_user).shape[0] == test_target_unique_user.shape[0], f\"Кол-во разных юзеров в кликстриме и test разное\""
   ]
  },
  {
   "cell_type": "code",
   "execution_count": 34,
   "metadata": {},
   "outputs": [],
   "source": [
    "assert np.intersect1d(train_target_unique_user, test_target_unique_user).shape[0] == test_target_unique_user.shape[0], f\"Кол-во разных юзеров в train и test разное\""
   ]
  }
 ],
 "metadata": {
  "kernelspec": {
   "display_name": "Python 3",
   "language": "python",
   "name": "python3"
  },
  "language_info": {
   "codemirror_mode": {
    "name": "ipython",
    "version": 3
   },
   "file_extension": ".py",
   "mimetype": "text/x-python",
   "name": "python",
   "nbconvert_exporter": "python",
   "pygments_lexer": "ipython3",
   "version": "3.8.5"
  }
 },
 "nbformat": 4,
 "nbformat_minor": 4
}
